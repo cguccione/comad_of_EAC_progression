{
 "cells": [
  {
   "cell_type": "markdown",
   "id": "b96c0091-b916-431b-96c0-b8115100a081",
   "metadata": {},
   "source": [
    "## EAC Progression Modeling Publication Notebook \n",
    "Goal: To filter micov coverage results into good or bad outcomes  - final draft used for EAC Prog Publication  \n",
    "Date: 10/25/2024  \n",
    "Kernal: Python 3"
   ]
  },
  {
   "cell_type": "markdown",
   "id": "5fceae3d-6455-44b2-86ae-d273d47685af",
   "metadata": {
    "tags": []
   },
   "source": [
    "### Imports"
   ]
  },
  {
   "cell_type": "code",
   "execution_count": 1,
   "id": "2ef2f7be-f96e-46ef-9f69-d594a1d573c3",
   "metadata": {},
   "outputs": [],
   "source": [
    "import pandas as pd\n",
    "%matplotlib inline\n",
    "import matplotlib.pyplot as plt\n",
    "\n",
    "from python_scripts.EAC_prog_model_micov_filter import *"
   ]
  },
  {
   "cell_type": "markdown",
   "id": "768a238b-32ce-4bce-8ba3-1f2211dbf8f6",
   "metadata": {
    "jp-MarkdownHeadingCollapsed": true,
    "tags": []
   },
   "source": [
    "### Functions"
   ]
  },
  {
   "cell_type": "code",
   "execution_count": 2,
   "id": "1b92ecde-7c07-4711-a4a8-ba0569ecab5a",
   "metadata": {},
   "outputs": [],
   "source": [
    "def save_pass_fail(pass_, fail_, fn):\n",
    "    '''Save pass and fail lists for future use'''\n",
    "    \n",
    "    pd.DataFrame(pass_, columns=['Pass'])['Pass'].to_csv('micov_results/micov_filtered_lists/PASSmicov_' + fn + '.csv', sep='\\t', index=False)\n",
    "    pd.DataFrame(fail_, columns=['Fail'])['Fail'].to_csv('micov_results/micov_filtered_lists/FAILmicov_' + fn + '.csv', sep='\\t', index=False)\n",
    "    "
   ]
  },
  {
   "cell_type": "code",
   "execution_count": 12,
   "id": "96445a99-9925-472f-ad46-28d066131c33",
   "metadata": {},
   "outputs": [],
   "source": [
    "def sensitivity_specificity(pass_, fail_, biom_df):\n",
    "    '''Calculates figures out what the specifcity/sensitvity of the micov filter compared with monoculture'''\n",
    "    \n",
    "    \n",
    "    TP = 0\n",
    "    FP = 0\n",
    "    for genome_id in pass_:\n",
    "        \n",
    "        taxa_name, =  taxa[taxa['GOTU'] == genome_id]['taxa']\n",
    "        \n",
    "        if 'g__Staphylococcus' in str(taxa_name):\n",
    "            TP += 1\n",
    "        else:\n",
    "            FP += 1\n",
    "    \n",
    "    TN = 0\n",
    "    FN = 0\n",
    "    for genome_id in fail_:\n",
    "        \n",
    "        taxa_name, =  taxa[taxa['GOTU'] == genome_id]['taxa']\n",
    "        \n",
    "        if 'g__Staphylococcus' in str(taxa_name):\n",
    "            FN += 1\n",
    "        else:\n",
    "            TN += 1\n",
    "    \n",
    "    total = len(pass_) + len(fail_)\n",
    "    sensitivity=(TP/(TP+FN))\n",
    "    specificity=(TN/(TN+FP))\n",
    "    accuracy = ((TP + TN)/ total)\n",
    "    precision = (TP / (TP + FP))\n",
    "    F1 = (2 * ((precision * sensitivity) / (precision + sensitivity)))\n",
    "    \n",
    "    print('Sensitivity / Recall / True Positive Rate\\t', sensitivity*100, '%')\n",
    "    print('Specificity / True Negative Rate\\t\\t', specificity*100, '%')\n",
    "    print('Accuracy\\t\\t\\t\\t\\t', accuracy*100, '%')\n",
    "    print('Precision / Positivie Predictive Value\\t\\t', precision*100, '%')\n",
    "    print('F1\\t\\t\\t\\t\\t\\t', F1*100, '%')     "
   ]
  },
  {
   "cell_type": "markdown",
   "id": "f2085f66-791f-4472-ac68-1ee89984a487",
   "metadata": {
    "jp-MarkdownHeadingCollapsed": true,
    "tags": []
   },
   "source": [
    "### Publication Datasets"
   ]
  },
  {
   "cell_type": "code",
   "execution_count": 2,
   "id": "776e9375-9df6-4982-afd5-70165174f559",
   "metadata": {},
   "outputs": [],
   "source": [
    "#Set taxa as WOL\n",
    "taxa = choose_taxa('WOL')"
   ]
  },
  {
   "cell_type": "markdown",
   "id": "341ef0ae-eb14-483d-970a-de7ad3aab6ed",
   "metadata": {
    "jp-MarkdownHeadingCollapsed": true,
    "tags": []
   },
   "source": [
    "#### EAC ICGC\n",
    "\n",
    "\"Pan-Cancer Analysis of Whole Genomes.\" Nature, vol. 578, no. 7793, 2020, pp. 82-93,  https://doi.org/10.1038/s41586-020-1969-6. Accessed 17 Jan. 2024.\n",
    "(Qiita: 14857)"
   ]
  },
  {
   "cell_type": "code",
   "execution_count": 4,
   "id": "959b459c-07a9-4c59-aa30-d40af2a92917",
   "metadata": {},
   "outputs": [],
   "source": [
    "#Import dataset\n",
    "gen_len = pd.read_csv('micov_results/micov_terminal_results/ICGC_all.coverage', sep='\\t')\n",
    "pos = pd.read_csv('micov_results/micov_terminal_results/ICGC_all.covered_positions', sep='\\t')\n",
    "\n",
    "biom_table = biom.load_table('qiita_downloads/qiita14857_EAC_ICGC/162938_none_WoLr1_scrubbed/feature-table.biom')\n",
    "biom_df = biom_table.to_dataframe(dense=True)\n",
    "\n",
    "cov= pd.read_csv('micov_results/micov_terminal_results/ICGC_all_coverage_percentage.txt', sep='\\t')\n",
    "cov = cov.rename(columns={'genome_id': 'GOTU', 'percent_covered':'coverage_percent'})"
   ]
  },
  {
   "cell_type": "code",
   "execution_count": 5,
   "id": "6b221abc-64a2-4eb0-9fb4-ae205d3893a5",
   "metadata": {
    "tags": []
   },
   "outputs": [
    {
     "name": "stdout",
     "output_type": "stream",
     "text": [
      "G000225995 failed\n",
      "G000333435 failed\n",
      "G001310795 failed\n",
      "G001399705 failed\n"
     ]
    }
   ],
   "source": [
    "pass_, fail_ = loop_micov(gen_len, pos, biom_df, cov, taxa)"
   ]
  },
  {
   "cell_type": "code",
   "execution_count": 6,
   "id": "5b9be1d0-473c-48c3-9842-d185198aac81",
   "metadata": {},
   "outputs": [
    {
     "data": {
      "text/plain": [
       "2646"
      ]
     },
     "execution_count": 6,
     "metadata": {},
     "output_type": "execute_result"
    }
   ],
   "source": [
    "len(fail_)"
   ]
  },
  {
   "cell_type": "code",
   "execution_count": 7,
   "id": "95a3f682-3498-4dd8-9950-5d31c17f4f2e",
   "metadata": {},
   "outputs": [
    {
     "data": {
      "text/plain": [
       "1246"
      ]
     },
     "execution_count": 7,
     "metadata": {},
     "output_type": "execute_result"
    }
   ],
   "source": [
    "len(pass_)"
   ]
  },
  {
   "cell_type": "code",
   "execution_count": 8,
   "id": "1dfc9d00-4627-44ca-adb5-44cd16b900c9",
   "metadata": {},
   "outputs": [],
   "source": [
    "save_pass_fail(pass_, fail_, 'ICGC_all')"
   ]
  },
  {
   "cell_type": "markdown",
   "id": "ba3630aa-b487-4de6-af89-10c7533c2130",
   "metadata": {
    "jp-MarkdownHeadingCollapsed": true,
    "tags": []
   },
   "source": [
    "#### Normal/Healthy & GERD Esoph Brushings  \n",
    "Deshpande, N. P., Riordan, S. M., Castaño-Rodríguez, N., Wilkins, M. R. & Kaakoush, N. O. Signatures within the esophageal microbiome are associated with host genetics, age, and disease. Microbiome vol. 6 (2018) https://doi.org/10.1186/s40168-018-0611-4"
   ]
  },
  {
   "cell_type": "code",
   "execution_count": 9,
   "id": "ea6a69ad-354b-4e34-b97a-4da89a2d7854",
   "metadata": {},
   "outputs": [],
   "source": [
    "#Import dataset\n",
    "gen_len = pd.read_csv('micov_results/micov_terminal_results/NormGerd_All.coverage', sep='\\t')\n",
    "pos = pd.read_csv('micov_results/micov_terminal_results/NormGerd_All.covered_positions', sep='\\t')\n",
    "\n",
    "biom_table = biom.load_table('qiita_downloads/qiita14458_NormalGerdEsoph/169125_none_WOL_scrubbed/feature-table.biom')\n",
    "biom_df = biom_table.to_dataframe(dense=True)\n",
    "\n",
    "cov= pd.read_csv('micov_results/micov_terminal_results/NormGerd_coverage_percentage.txt', sep='\\t')\n",
    "cov = cov.rename(columns={'genome_id': 'GOTU', 'percent_covered':'coverage_percent'})"
   ]
  },
  {
   "cell_type": "code",
   "execution_count": 10,
   "id": "d1a0606a-9466-4399-b2db-6f16faf7372e",
   "metadata": {
    "tags": []
   },
   "outputs": [],
   "source": [
    "pass_, fail_ = loop_micov(gen_len, pos, biom_df, cov, taxa)"
   ]
  },
  {
   "cell_type": "code",
   "execution_count": 11,
   "id": "d6a42420-f954-41d0-9b37-209f4118b2fa",
   "metadata": {},
   "outputs": [
    {
     "data": {
      "text/plain": [
       "2111"
      ]
     },
     "execution_count": 11,
     "metadata": {},
     "output_type": "execute_result"
    }
   ],
   "source": [
    "len(fail_)"
   ]
  },
  {
   "cell_type": "code",
   "execution_count": 12,
   "id": "fd566cec-bdb8-4244-ae45-78e87d694d9f",
   "metadata": {},
   "outputs": [
    {
     "data": {
      "text/plain": [
       "895"
      ]
     },
     "execution_count": 12,
     "metadata": {},
     "output_type": "execute_result"
    }
   ],
   "source": [
    "len(pass_)"
   ]
  },
  {
   "cell_type": "code",
   "execution_count": 13,
   "id": "425d45e8-89b2-4b5f-82e6-a268e223d8c0",
   "metadata": {},
   "outputs": [],
   "source": [
    "save_pass_fail(pass_, fail_, 'NormGerd')"
   ]
  },
  {
   "cell_type": "code",
   "execution_count": null,
   "id": "48416c9a-3b98-43b3-a071-d7da3bc39a6a",
   "metadata": {},
   "outputs": [],
   "source": []
  },
  {
   "cell_type": "markdown",
   "id": "5c4ce5e7-e7fa-4146-80d2-ab767a821b0d",
   "metadata": {
    "jp-MarkdownHeadingCollapsed": true,
    "tags": []
   },
   "source": [
    "#### Barrett's Esophgous Progressors/Non Progressors\n",
    "Paulson, T. G. et al. Somatic whole genome dynamics of precancer in Barrett’s esophagus reveals features associated with disease progression. Nature Communications vol. 13 (2022) https://doi.org/10.1038/s41467-022-29767-7"
   ]
  },
  {
   "cell_type": "code",
   "execution_count": 4,
   "id": "18c9837c-2009-4495-9088-409bbc105e53",
   "metadata": {},
   "outputs": [],
   "source": [
    "#Import dataset\n",
    "gen_len = pd.read_csv('micov_results/micov_terminal_results/BE_all.coverage', sep='\\t')\n",
    "pos = pd.read_csv('micov_results/micov_terminal_results/BE_all.covered_positions', sep='\\t')\n",
    "\n",
    "biom_table = biom.load_table('qiita_downloads/qiita14598_BE_Esoph/149431_genome_WOL_scrubbed/feature-table.biom')\n",
    "biom_df = biom_table.to_dataframe(dense=True)\n",
    "\n",
    "cov= pd.read_csv('micov_results/micov_terminal_results/BE_All_coverage_percentage.txt', sep='\\t')\n",
    "cov = cov.rename(columns={'genome_id': 'GOTU', 'percent_covered':'coverage_percent'})"
   ]
  },
  {
   "cell_type": "code",
   "execution_count": 5,
   "id": "d8e59d76-7d7c-4df6-9703-21b42d6cbea6",
   "metadata": {
    "tags": []
   },
   "outputs": [
    {
     "name": "stdout",
     "output_type": "stream",
     "text": [
      "G001310795 failed\n"
     ]
    }
   ],
   "source": [
    "pass_, fail_ = loop_micov(gen_len, pos, biom_df, cov, taxa)"
   ]
  },
  {
   "cell_type": "code",
   "execution_count": 6,
   "id": "d66ec74d-409d-418c-86d1-f18b1d306799",
   "metadata": {},
   "outputs": [
    {
     "data": {
      "text/plain": [
       "1079"
      ]
     },
     "execution_count": 6,
     "metadata": {},
     "output_type": "execute_result"
    }
   ],
   "source": [
    "len(fail_)"
   ]
  },
  {
   "cell_type": "code",
   "execution_count": 7,
   "id": "cb0689c6-dc49-4031-98aa-5dd197d906e0",
   "metadata": {},
   "outputs": [
    {
     "data": {
      "text/plain": [
       "654"
      ]
     },
     "execution_count": 7,
     "metadata": {},
     "output_type": "execute_result"
    }
   ],
   "source": [
    "len(pass_)"
   ]
  },
  {
   "cell_type": "code",
   "execution_count": 8,
   "id": "1ab5aee0-b79e-4f7b-9d3b-6146601c9509",
   "metadata": {},
   "outputs": [],
   "source": [
    "save_pass_fail(pass_, fail_, 'BE_all_T2100_T3100')"
   ]
  },
  {
   "cell_type": "markdown",
   "id": "bd77dd3d-3e8e-4886-94b9-ac3d39746d76",
   "metadata": {
    "jp-MarkdownHeadingCollapsed": true,
    "tags": []
   },
   "source": [
    "#### BE, EAC Tissue\n",
    "Ross-Innes, C. S. et al. Whole-genome sequencing provides new insights into the clonal architecture of Barrett’s esophagus and esophageal adenocarcinoma. Nature Genetics vol. 47 1038–1046 (2015) https://doi.org/10.1038/ng.3357. This also has normal tissue but we are not using it. "
   ]
  },
  {
   "cell_type": "code",
   "execution_count": 8,
   "id": "4af57bba-f930-42a0-b1e1-59a84de496ac",
   "metadata": {},
   "outputs": [],
   "source": [
    "#Import dataset\n",
    "gen_len = pd.read_csv('micov_results/micov_terminal_results/Fitz_all.coverage', sep='\\t')\n",
    "pos = pd.read_csv('micov_results/micov_terminal_results/Fitz_all.covered_positions', sep='\\t')\n",
    "\n",
    "biom_table = biom.load_table('qiita_downloads/qiitaTBD_Norm_BE_EAC/genome_WOL_R1_R2_paired_scrubbed/feature-table.biom')\n",
    "biom_df = biom_table.to_dataframe(dense=True)\n",
    "\n",
    "cov= pd.read_csv('micov_results/micov_terminal_results/Fitz_all_coverage_percentage.txt', sep='\\t')\n",
    "cov = cov.rename(columns={'genome_id': 'GOTU', 'percent_covered':'coverage_percent'})"
   ]
  },
  {
   "cell_type": "code",
   "execution_count": 15,
   "id": "15deb281-8bc6-4df0-8ce6-e58b905b9704",
   "metadata": {
    "tags": []
   },
   "outputs": [
    {
     "name": "stdout",
     "output_type": "stream",
     "text": [
      "G000333435 failed\n",
      "G001310795 failed\n",
      "G001399705 failed\n"
     ]
    }
   ],
   "source": [
    "pass_, fail_ = loop_micov(gen_len, pos, biom_df, cov, taxa)"
   ]
  },
  {
   "cell_type": "code",
   "execution_count": 16,
   "id": "4b892d6e-7775-445b-a510-dd549175e749",
   "metadata": {},
   "outputs": [
    {
     "data": {
      "text/plain": [
       "1826"
      ]
     },
     "execution_count": 16,
     "metadata": {},
     "output_type": "execute_result"
    }
   ],
   "source": [
    "len(fail_)"
   ]
  },
  {
   "cell_type": "code",
   "execution_count": 17,
   "id": "7e3961a1-f412-4b41-8d21-10f2635216b5",
   "metadata": {},
   "outputs": [
    {
     "data": {
      "text/plain": [
       "1101"
      ]
     },
     "execution_count": 17,
     "metadata": {},
     "output_type": "execute_result"
    }
   ],
   "source": [
    "len(pass_)"
   ]
  },
  {
   "cell_type": "code",
   "execution_count": 18,
   "id": "e0a1d566-faa7-4d97-8ad7-5f45488dd4ef",
   "metadata": {},
   "outputs": [],
   "source": [
    "save_pass_fail(pass_, fail_, 'Fitz_all')"
   ]
  },
  {
   "cell_type": "markdown",
   "id": "c258ead7-3907-46b2-8cb5-593795485628",
   "metadata": {
    "tags": []
   },
   "source": [
    "### Monoculture Validation Datasets"
   ]
  },
  {
   "cell_type": "code",
   "execution_count": 2,
   "id": "245b7783-3376-46b8-9d55-ae6ac0964e2f",
   "metadata": {},
   "outputs": [],
   "source": [
    "#Set taxa as WOL\n",
    "taxa = choose_taxa('WOL2')"
   ]
  },
  {
   "cell_type": "markdown",
   "id": "63c024ae-4dee-46cf-9371-c48bf73c3566",
   "metadata": {
    "jp-MarkdownHeadingCollapsed": true,
    "tags": []
   },
   "source": [
    "#### 1000 case - WOLr2 Monoculture"
   ]
  },
  {
   "cell_type": "code",
   "execution_count": 14,
   "id": "93f73f07-00d1-4363-a6bb-e6a8ebab661b",
   "metadata": {},
   "outputs": [],
   "source": [
    "#Import micov results\n",
    "gen_len, pos, biom_df, cov = results_import('1000_WOL2', '1000_WOL2_204090_none.biom')\n",
    "\n",
    "#Add a 'covered' column since these GOTUs are right (but now it uses a diff one in the script since the other ones above were wrong/corrected)\n",
    "cov['covered'] = cov['coverage_percent']"
   ]
  },
  {
   "cell_type": "code",
   "execution_count": 16,
   "id": "e6ed683d-643d-4095-aee5-fa75bf22db7a",
   "metadata": {
    "tags": []
   },
   "outputs": [],
   "source": [
    "pass_, fail_ = loop_micov(gen_len, pos, biom_df, cov, taxa) #, plot=True)"
   ]
  },
  {
   "cell_type": "code",
   "execution_count": null,
   "id": "0bcda674-63b6-49d7-95c3-1e973f1bcf02",
   "metadata": {},
   "outputs": [],
   "source": [
    "edge_cases = ['G000010585', 'G000802255', 'G004127505', 'G010078225']\n",
    "should_be = ['G000171775', 'G000196015', 'G001645185', 'G009982895']"
   ]
  },
  {
   "cell_type": "code",
   "execution_count": null,
   "id": "dcb3de13-c872-4ebd-bfb5-a6d2d3a8f30c",
   "metadata": {
    "tags": []
   },
   "outputs": [],
   "source": [
    "x = micov_main('G010078225', gen_len, pos, biom_df, cov, taxa, pass_, fail_, plot=True, bin_size=10000)"
   ]
  },
  {
   "cell_type": "code",
   "execution_count": null,
   "id": "ab67a328-b87e-4aa9-b09f-d14e0adfc2f1",
   "metadata": {
    "tags": []
   },
   "outputs": [],
   "source": [
    "loop_list(pass_, biom_df)"
   ]
  },
  {
   "cell_type": "code",
   "execution_count": null,
   "id": "1d4ccfb6-5b31-486d-9845-e10f28f4ce43",
   "metadata": {
    "tags": []
   },
   "outputs": [],
   "source": [
    "loop_list(fail_, biom_df)"
   ]
  },
  {
   "cell_type": "code",
   "execution_count": 17,
   "id": "b50ae7aa-df0f-4c58-90c7-796a6f0e316c",
   "metadata": {},
   "outputs": [
    {
     "name": "stdout",
     "output_type": "stream",
     "text": [
      "Sensitivity / Recall / True Positive Rate\t 87.8048780487805 %\n",
      "Specificity / True Negative Rate\t\t 95.18072289156626 %\n",
      "Accuracy\t\t\t\t\t 94.36997319034852 %\n",
      "Precision / Positivie Predictive Value\t\t 69.23076923076923 %\n",
      "F1\t\t\t\t\t\t 77.41935483870967 %\n"
     ]
    }
   ],
   "source": [
    "sensitivity_specificity(pass_, fail_, biom_df)"
   ]
  },
  {
   "cell_type": "markdown",
   "id": "c0ae2521-d24c-4f4f-a44e-67aa8d9a39bd",
   "metadata": {
    "jp-MarkdownHeadingCollapsed": true,
    "tags": []
   },
   "source": [
    "#### 50 case - WOLr2 Monoculture"
   ]
  },
  {
   "cell_type": "code",
   "execution_count": 3,
   "id": "d2d3817e-7793-44c9-aa89-2856f6af00a8",
   "metadata": {
    "tags": []
   },
   "outputs": [],
   "source": [
    "#Import micov results\n",
    "gen_len_50, pos_50, biom_df_50, cov_50 = results_import('50_WOL2', '50_WOL2_204093_none.biom')\n",
    "\n",
    "#Add a 'covered' column since these GOTUs are right (but now it uses a diff one in the script since the other ones above were wrong/corrected)\n",
    "cov_50['covered'] = cov_50['coverage_percent']"
   ]
  },
  {
   "cell_type": "code",
   "execution_count": null,
   "id": "99290d31-6ebe-4170-b840-56d5072e3497",
   "metadata": {},
   "outputs": [],
   "source": [
    "edge_case=[]\n",
    "should_pass=['G000802255', 'G009982895']"
   ]
  },
  {
   "cell_type": "code",
   "execution_count": 13,
   "id": "6c45cda5-8408-4682-ae79-0e0fe63a6623",
   "metadata": {
    "collapsed": true,
    "jupyter": {
     "outputs_hidden": true
    },
    "tags": []
   },
   "outputs": [
    {
     "data": {
      "text/html": [
       "<div>\n",
       "<style scoped>\n",
       "    .dataframe tbody tr th:only-of-type {\n",
       "        vertical-align: middle;\n",
       "    }\n",
       "\n",
       "    .dataframe tbody tr th {\n",
       "        vertical-align: top;\n",
       "    }\n",
       "\n",
       "    .dataframe thead th {\n",
       "        text-align: right;\n",
       "    }\n",
       "</style>\n",
       "<table border=\"1\" class=\"dataframe\">\n",
       "  <thead>\n",
       "    <tr style=\"text-align: right;\">\n",
       "      <th></th>\n",
       "      <th>genome_id</th>\n",
       "      <th>start</th>\n",
       "      <th>stop</th>\n",
       "      <th>sample_id</th>\n",
       "      <th>hit_index_list</th>\n",
       "      <th>hit_start_stop_list</th>\n",
       "    </tr>\n",
       "  </thead>\n",
       "  <tbody>\n",
       "    <tr>\n",
       "      <th>747</th>\n",
       "      <td>G009982895</td>\n",
       "      <td>1023815</td>\n",
       "      <td>1023965</td>\n",
       "      <td>15642.11919.VN24B10</td>\n",
       "      <td>[102]</td>\n",
       "      <td>[[1020000, 1030000]]</td>\n",
       "    </tr>\n",
       "    <tr>\n",
       "      <th>1956</th>\n",
       "      <td>G009982895</td>\n",
       "      <td>4497826</td>\n",
       "      <td>4497976</td>\n",
       "      <td>15642.11919.NC.Staphy1.10E</td>\n",
       "      <td>[449]</td>\n",
       "      <td>[[4490000, 4500000]]</td>\n",
       "    </tr>\n",
       "    <tr>\n",
       "      <th>2827</th>\n",
       "      <td>G009982895</td>\n",
       "      <td>2440773</td>\n",
       "      <td>2440923</td>\n",
       "      <td>15642.11919.NC.Staphy1.6D</td>\n",
       "      <td>[244]</td>\n",
       "      <td>[[2440000, 2450000]]</td>\n",
       "    </tr>\n",
       "    <tr>\n",
       "      <th>3303</th>\n",
       "      <td>G009982895</td>\n",
       "      <td>1025225</td>\n",
       "      <td>1025375</td>\n",
       "      <td>15642.11919.NC.Staphy2.5B</td>\n",
       "      <td>[102]</td>\n",
       "      <td>[[1020000, 1030000]]</td>\n",
       "    </tr>\n",
       "    <tr>\n",
       "      <th>3765</th>\n",
       "      <td>G009982895</td>\n",
       "      <td>2617768</td>\n",
       "      <td>2617918</td>\n",
       "      <td>15642.11919.VN13B11</td>\n",
       "      <td>[261]</td>\n",
       "      <td>[[2610000, 2620000]]</td>\n",
       "    </tr>\n",
       "    <tr>\n",
       "      <th>...</th>\n",
       "      <td>...</td>\n",
       "      <td>...</td>\n",
       "      <td>...</td>\n",
       "      <td>...</td>\n",
       "      <td>...</td>\n",
       "      <td>...</td>\n",
       "    </tr>\n",
       "    <tr>\n",
       "      <th>52587</th>\n",
       "      <td>G009982895</td>\n",
       "      <td>718541</td>\n",
       "      <td>718825</td>\n",
       "      <td>15642.11919.niams9.NL.5</td>\n",
       "      <td>[71]</td>\n",
       "      <td>[[710000, 720000]]</td>\n",
       "    </tr>\n",
       "    <tr>\n",
       "      <th>52588</th>\n",
       "      <td>G009982895</td>\n",
       "      <td>1799244</td>\n",
       "      <td>1799394</td>\n",
       "      <td>15642.11919.niams9.NL.5</td>\n",
       "      <td>[179]</td>\n",
       "      <td>[[1790000, 1800000]]</td>\n",
       "    </tr>\n",
       "    <tr>\n",
       "      <th>54158</th>\n",
       "      <td>G009982895</td>\n",
       "      <td>1799222</td>\n",
       "      <td>1799372</td>\n",
       "      <td>15642.11919.niams9.NL.10</td>\n",
       "      <td>[179]</td>\n",
       "      <td>[[1790000, 1800000]]</td>\n",
       "    </tr>\n",
       "    <tr>\n",
       "      <th>54462</th>\n",
       "      <td>G009982895</td>\n",
       "      <td>924510</td>\n",
       "      <td>924660</td>\n",
       "      <td>15642.11919.niams9.L.8</td>\n",
       "      <td>[92]</td>\n",
       "      <td>[[920000, 930000]]</td>\n",
       "    </tr>\n",
       "    <tr>\n",
       "      <th>55125</th>\n",
       "      <td>G009982895</td>\n",
       "      <td>2679214</td>\n",
       "      <td>2679364</td>\n",
       "      <td>15642.11919.niams9.NL.2</td>\n",
       "      <td>[267]</td>\n",
       "      <td>[[2670000, 2680000]]</td>\n",
       "    </tr>\n",
       "  </tbody>\n",
       "</table>\n",
       "<p>125 rows × 6 columns</p>\n",
       "</div>"
      ],
      "text/plain": [
       "        genome_id    start     stop                   sample_id  \\\n",
       "747    G009982895  1023815  1023965         15642.11919.VN24B10   \n",
       "1956   G009982895  4497826  4497976  15642.11919.NC.Staphy1.10E   \n",
       "2827   G009982895  2440773  2440923   15642.11919.NC.Staphy1.6D   \n",
       "3303   G009982895  1025225  1025375   15642.11919.NC.Staphy2.5B   \n",
       "3765   G009982895  2617768  2617918         15642.11919.VN13B11   \n",
       "...           ...      ...      ...                         ...   \n",
       "52587  G009982895   718541   718825     15642.11919.niams9.NL.5   \n",
       "52588  G009982895  1799244  1799394     15642.11919.niams9.NL.5   \n",
       "54158  G009982895  1799222  1799372    15642.11919.niams9.NL.10   \n",
       "54462  G009982895   924510   924660      15642.11919.niams9.L.8   \n",
       "55125  G009982895  2679214  2679364     15642.11919.niams9.NL.2   \n",
       "\n",
       "      hit_index_list   hit_start_stop_list  \n",
       "747            [102]  [[1020000, 1030000]]  \n",
       "1956           [449]  [[4490000, 4500000]]  \n",
       "2827           [244]  [[2440000, 2450000]]  \n",
       "3303           [102]  [[1020000, 1030000]]  \n",
       "3765           [261]  [[2610000, 2620000]]  \n",
       "...              ...                   ...  \n",
       "52587           [71]    [[710000, 720000]]  \n",
       "52588          [179]  [[1790000, 1800000]]  \n",
       "54158          [179]  [[1790000, 1800000]]  \n",
       "54462           [92]    [[920000, 930000]]  \n",
       "55125          [267]  [[2670000, 2680000]]  \n",
       "\n",
       "[125 rows x 6 columns]"
      ]
     },
     "metadata": {},
     "output_type": "display_data"
    },
    {
     "data": {
      "text/html": [
       "<div>\n",
       "<style scoped>\n",
       "    .dataframe tbody tr th:only-of-type {\n",
       "        vertical-align: middle;\n",
       "    }\n",
       "\n",
       "    .dataframe tbody tr th {\n",
       "        vertical-align: top;\n",
       "    }\n",
       "\n",
       "    .dataframe thead th {\n",
       "        text-align: right;\n",
       "    }\n",
       "</style>\n",
       "<table border=\"1\" class=\"dataframe\">\n",
       "  <thead>\n",
       "    <tr style=\"text-align: right;\">\n",
       "      <th></th>\n",
       "      <th>bin_start</th>\n",
       "      <th>bin_stop</th>\n",
       "      <th>sample_hits</th>\n",
       "      <th>read_hits</th>\n",
       "      <th>num_samples</th>\n",
       "      <th>prior_bin_stop</th>\n",
       "      <th>is_connected</th>\n",
       "    </tr>\n",
       "  </thead>\n",
       "  <tbody>\n",
       "    <tr>\n",
       "      <th>0</th>\n",
       "      <td>170000</td>\n",
       "      <td>180000</td>\n",
       "      <td>{15642.11919.niams13.NL.6, 15642.11919.niams18...</td>\n",
       "      <td>3</td>\n",
       "      <td>3</td>\n",
       "      <td>NaN</td>\n",
       "      <td>False</td>\n",
       "    </tr>\n",
       "    <tr>\n",
       "      <th>1</th>\n",
       "      <td>180000</td>\n",
       "      <td>190000</td>\n",
       "      <td>{15642.11919.niams9.NL.4, 15642.11919.niams28....</td>\n",
       "      <td>4</td>\n",
       "      <td>4</td>\n",
       "      <td>180000.0</td>\n",
       "      <td>True</td>\n",
       "    </tr>\n",
       "    <tr>\n",
       "      <th>2</th>\n",
       "      <td>320000</td>\n",
       "      <td>330000</td>\n",
       "      <td>{15642.11919.niams13.L.3, 15642.11919.niams6.L...</td>\n",
       "      <td>4</td>\n",
       "      <td>4</td>\n",
       "      <td>190000.0</td>\n",
       "      <td>False</td>\n",
       "    </tr>\n",
       "    <tr>\n",
       "      <th>3</th>\n",
       "      <td>460000</td>\n",
       "      <td>470000</td>\n",
       "      <td>{15642.11919.niams6.L.5, 15642.11919.niams13.L...</td>\n",
       "      <td>12</td>\n",
       "      <td>11</td>\n",
       "      <td>330000.0</td>\n",
       "      <td>False</td>\n",
       "    </tr>\n",
       "    <tr>\n",
       "      <th>4</th>\n",
       "      <td>590000</td>\n",
       "      <td>600000</td>\n",
       "      <td>{15642.11919.niams14.NL.9, 15642.11919.niams28...</td>\n",
       "      <td>3</td>\n",
       "      <td>3</td>\n",
       "      <td>470000.0</td>\n",
       "      <td>False</td>\n",
       "    </tr>\n",
       "    <tr>\n",
       "      <th>5</th>\n",
       "      <td>710000</td>\n",
       "      <td>720000</td>\n",
       "      <td>{15642.11919.niams13.NL.9, 15642.11919.niams9....</td>\n",
       "      <td>2</td>\n",
       "      <td>2</td>\n",
       "      <td>600000.0</td>\n",
       "      <td>False</td>\n",
       "    </tr>\n",
       "    <tr>\n",
       "      <th>6</th>\n",
       "      <td>720000</td>\n",
       "      <td>730000</td>\n",
       "      <td>{15642.11919.niams13.NL.7, 15642.11919.niams6....</td>\n",
       "      <td>3</td>\n",
       "      <td>3</td>\n",
       "      <td>720000.0</td>\n",
       "      <td>True</td>\n",
       "    </tr>\n",
       "    <tr>\n",
       "      <th>7</th>\n",
       "      <td>820000</td>\n",
       "      <td>830000</td>\n",
       "      <td>{15642.11919.niams14.L.1, 15642.11919.niams18....</td>\n",
       "      <td>5</td>\n",
       "      <td>5</td>\n",
       "      <td>730000.0</td>\n",
       "      <td>False</td>\n",
       "    </tr>\n",
       "    <tr>\n",
       "      <th>8</th>\n",
       "      <td>920000</td>\n",
       "      <td>930000</td>\n",
       "      <td>{15642.11919.niams28.L.10, 15642.11919.NC.Stap...</td>\n",
       "      <td>7</td>\n",
       "      <td>7</td>\n",
       "      <td>830000.0</td>\n",
       "      <td>False</td>\n",
       "    </tr>\n",
       "    <tr>\n",
       "      <th>9</th>\n",
       "      <td>1020000</td>\n",
       "      <td>1030000</td>\n",
       "      <td>{15642.11919.niams6.NL.3, 15642.11919.niams28....</td>\n",
       "      <td>12</td>\n",
       "      <td>12</td>\n",
       "      <td>930000.0</td>\n",
       "      <td>False</td>\n",
       "    </tr>\n",
       "    <tr>\n",
       "      <th>10</th>\n",
       "      <td>1110000</td>\n",
       "      <td>1120000</td>\n",
       "      <td>{15642.11919.niams30.NL.4, 15642.11919.niams28...</td>\n",
       "      <td>2</td>\n",
       "      <td>2</td>\n",
       "      <td>1030000.0</td>\n",
       "      <td>False</td>\n",
       "    </tr>\n",
       "    <tr>\n",
       "      <th>11</th>\n",
       "      <td>1600000</td>\n",
       "      <td>1610000</td>\n",
       "      <td>{15642.11919.niams13.L.7}</td>\n",
       "      <td>1</td>\n",
       "      <td>1</td>\n",
       "      <td>1120000.0</td>\n",
       "      <td>False</td>\n",
       "    </tr>\n",
       "    <tr>\n",
       "      <th>12</th>\n",
       "      <td>1670000</td>\n",
       "      <td>1680000</td>\n",
       "      <td>{15642.11919.niams13.NL.9}</td>\n",
       "      <td>1</td>\n",
       "      <td>1</td>\n",
       "      <td>1610000.0</td>\n",
       "      <td>False</td>\n",
       "    </tr>\n",
       "    <tr>\n",
       "      <th>13</th>\n",
       "      <td>1730000</td>\n",
       "      <td>1740000</td>\n",
       "      <td>{15642.11919.niams18.L.2}</td>\n",
       "      <td>1</td>\n",
       "      <td>1</td>\n",
       "      <td>1680000.0</td>\n",
       "      <td>False</td>\n",
       "    </tr>\n",
       "    <tr>\n",
       "      <th>14</th>\n",
       "      <td>1740000</td>\n",
       "      <td>1750000</td>\n",
       "      <td>{15642.11919.niams28.NL.1}</td>\n",
       "      <td>1</td>\n",
       "      <td>1</td>\n",
       "      <td>1740000.0</td>\n",
       "      <td>True</td>\n",
       "    </tr>\n",
       "    <tr>\n",
       "      <th>15</th>\n",
       "      <td>1790000</td>\n",
       "      <td>1800000</td>\n",
       "      <td>{15642.11919.niams28.L.7, 15642.11919.niams9.N...</td>\n",
       "      <td>6</td>\n",
       "      <td>6</td>\n",
       "      <td>1750000.0</td>\n",
       "      <td>False</td>\n",
       "    </tr>\n",
       "    <tr>\n",
       "      <th>16</th>\n",
       "      <td>1800000</td>\n",
       "      <td>1810000</td>\n",
       "      <td>{15642.11919.niams30.NL.10, 15642.11919.niams5...</td>\n",
       "      <td>2</td>\n",
       "      <td>2</td>\n",
       "      <td>1800000.0</td>\n",
       "      <td>True</td>\n",
       "    </tr>\n",
       "    <tr>\n",
       "      <th>17</th>\n",
       "      <td>1850000</td>\n",
       "      <td>1860000</td>\n",
       "      <td>{15642.11919.niams18.NL.8, 15642.11919.niams13...</td>\n",
       "      <td>2</td>\n",
       "      <td>2</td>\n",
       "      <td>1810000.0</td>\n",
       "      <td>False</td>\n",
       "    </tr>\n",
       "    <tr>\n",
       "      <th>18</th>\n",
       "      <td>1910000</td>\n",
       "      <td>1920000</td>\n",
       "      <td>{15642.11919.niams14.L.8, 15642.11919.niams30....</td>\n",
       "      <td>6</td>\n",
       "      <td>6</td>\n",
       "      <td>1860000.0</td>\n",
       "      <td>False</td>\n",
       "    </tr>\n",
       "    <tr>\n",
       "      <th>19</th>\n",
       "      <td>1970000</td>\n",
       "      <td>1980000</td>\n",
       "      <td>{15642.11919.niams6.NL.8}</td>\n",
       "      <td>1</td>\n",
       "      <td>1</td>\n",
       "      <td>1920000.0</td>\n",
       "      <td>False</td>\n",
       "    </tr>\n",
       "    <tr>\n",
       "      <th>20</th>\n",
       "      <td>2020000</td>\n",
       "      <td>2030000</td>\n",
       "      <td>{15642.11919.niams14.NL.7, 15642.11919.niams13...</td>\n",
       "      <td>2</td>\n",
       "      <td>2</td>\n",
       "      <td>1980000.0</td>\n",
       "      <td>False</td>\n",
       "    </tr>\n",
       "    <tr>\n",
       "      <th>21</th>\n",
       "      <td>2060000</td>\n",
       "      <td>2070000</td>\n",
       "      <td>{15642.11919.niams14.NL.9}</td>\n",
       "      <td>1</td>\n",
       "      <td>1</td>\n",
       "      <td>2030000.0</td>\n",
       "      <td>False</td>\n",
       "    </tr>\n",
       "    <tr>\n",
       "      <th>22</th>\n",
       "      <td>2440000</td>\n",
       "      <td>2450000</td>\n",
       "      <td>{15642.11919.niams28.NL.3, 15642.11919.NC.Stap...</td>\n",
       "      <td>4</td>\n",
       "      <td>4</td>\n",
       "      <td>2070000.0</td>\n",
       "      <td>False</td>\n",
       "    </tr>\n",
       "    <tr>\n",
       "      <th>23</th>\n",
       "      <td>2480000</td>\n",
       "      <td>2490000</td>\n",
       "      <td>{15642.11919.niams5.NL.4, 15642.11919.niams30....</td>\n",
       "      <td>4</td>\n",
       "      <td>4</td>\n",
       "      <td>2450000.0</td>\n",
       "      <td>False</td>\n",
       "    </tr>\n",
       "    <tr>\n",
       "      <th>24</th>\n",
       "      <td>2510000</td>\n",
       "      <td>2520000</td>\n",
       "      <td>{15642.11919.niams14.NL.6}</td>\n",
       "      <td>2</td>\n",
       "      <td>1</td>\n",
       "      <td>2490000.0</td>\n",
       "      <td>False</td>\n",
       "    </tr>\n",
       "    <tr>\n",
       "      <th>25</th>\n",
       "      <td>2580000</td>\n",
       "      <td>2590000</td>\n",
       "      <td>{15642.11919.niams30.NL.3}</td>\n",
       "      <td>1</td>\n",
       "      <td>1</td>\n",
       "      <td>2520000.0</td>\n",
       "      <td>False</td>\n",
       "    </tr>\n",
       "    <tr>\n",
       "      <th>26</th>\n",
       "      <td>2610000</td>\n",
       "      <td>2620000</td>\n",
       "      <td>{15642.11919.niams28.NL.4, 15642.11919.VN13B11...</td>\n",
       "      <td>6</td>\n",
       "      <td>6</td>\n",
       "      <td>2590000.0</td>\n",
       "      <td>False</td>\n",
       "    </tr>\n",
       "    <tr>\n",
       "      <th>27</th>\n",
       "      <td>2640000</td>\n",
       "      <td>2650000</td>\n",
       "      <td>{15642.11919.niams6.NL.5, 15642.11919.niams9.L...</td>\n",
       "      <td>7</td>\n",
       "      <td>6</td>\n",
       "      <td>2620000.0</td>\n",
       "      <td>False</td>\n",
       "    </tr>\n",
       "    <tr>\n",
       "      <th>28</th>\n",
       "      <td>2670000</td>\n",
       "      <td>2680000</td>\n",
       "      <td>{15642.11919.niams9.NL.6, 15642.11919.niams9.N...</td>\n",
       "      <td>4</td>\n",
       "      <td>4</td>\n",
       "      <td>2650000.0</td>\n",
       "      <td>False</td>\n",
       "    </tr>\n",
       "    <tr>\n",
       "      <th>29</th>\n",
       "      <td>2700000</td>\n",
       "      <td>2710000</td>\n",
       "      <td>{15642.11919.niams5.L.6}</td>\n",
       "      <td>1</td>\n",
       "      <td>1</td>\n",
       "      <td>2680000.0</td>\n",
       "      <td>False</td>\n",
       "    </tr>\n",
       "    <tr>\n",
       "      <th>30</th>\n",
       "      <td>2730000</td>\n",
       "      <td>2740000</td>\n",
       "      <td>{15642.11919.niams30.L.3, 15642.11919.niams28....</td>\n",
       "      <td>3</td>\n",
       "      <td>3</td>\n",
       "      <td>2710000.0</td>\n",
       "      <td>False</td>\n",
       "    </tr>\n",
       "    <tr>\n",
       "      <th>31</th>\n",
       "      <td>4490000</td>\n",
       "      <td>4500000</td>\n",
       "      <td>{15642.11919.niams6.L.9, 15642.11919.NC.Staphy...</td>\n",
       "      <td>12</td>\n",
       "      <td>12</td>\n",
       "      <td>2740000.0</td>\n",
       "      <td>False</td>\n",
       "    </tr>\n",
       "  </tbody>\n",
       "</table>\n",
       "</div>"
      ],
      "text/plain": [
       "    bin_start  bin_stop                                        sample_hits  \\\n",
       "0      170000    180000  {15642.11919.niams13.NL.6, 15642.11919.niams18...   \n",
       "1      180000    190000  {15642.11919.niams9.NL.4, 15642.11919.niams28....   \n",
       "2      320000    330000  {15642.11919.niams13.L.3, 15642.11919.niams6.L...   \n",
       "3      460000    470000  {15642.11919.niams6.L.5, 15642.11919.niams13.L...   \n",
       "4      590000    600000  {15642.11919.niams14.NL.9, 15642.11919.niams28...   \n",
       "5      710000    720000  {15642.11919.niams13.NL.9, 15642.11919.niams9....   \n",
       "6      720000    730000  {15642.11919.niams13.NL.7, 15642.11919.niams6....   \n",
       "7      820000    830000  {15642.11919.niams14.L.1, 15642.11919.niams18....   \n",
       "8      920000    930000  {15642.11919.niams28.L.10, 15642.11919.NC.Stap...   \n",
       "9     1020000   1030000  {15642.11919.niams6.NL.3, 15642.11919.niams28....   \n",
       "10    1110000   1120000  {15642.11919.niams30.NL.4, 15642.11919.niams28...   \n",
       "11    1600000   1610000                          {15642.11919.niams13.L.7}   \n",
       "12    1670000   1680000                         {15642.11919.niams13.NL.9}   \n",
       "13    1730000   1740000                          {15642.11919.niams18.L.2}   \n",
       "14    1740000   1750000                         {15642.11919.niams28.NL.1}   \n",
       "15    1790000   1800000  {15642.11919.niams28.L.7, 15642.11919.niams9.N...   \n",
       "16    1800000   1810000  {15642.11919.niams30.NL.10, 15642.11919.niams5...   \n",
       "17    1850000   1860000  {15642.11919.niams18.NL.8, 15642.11919.niams13...   \n",
       "18    1910000   1920000  {15642.11919.niams14.L.8, 15642.11919.niams30....   \n",
       "19    1970000   1980000                          {15642.11919.niams6.NL.8}   \n",
       "20    2020000   2030000  {15642.11919.niams14.NL.7, 15642.11919.niams13...   \n",
       "21    2060000   2070000                         {15642.11919.niams14.NL.9}   \n",
       "22    2440000   2450000  {15642.11919.niams28.NL.3, 15642.11919.NC.Stap...   \n",
       "23    2480000   2490000  {15642.11919.niams5.NL.4, 15642.11919.niams30....   \n",
       "24    2510000   2520000                         {15642.11919.niams14.NL.6}   \n",
       "25    2580000   2590000                         {15642.11919.niams30.NL.3}   \n",
       "26    2610000   2620000  {15642.11919.niams28.NL.4, 15642.11919.VN13B11...   \n",
       "27    2640000   2650000  {15642.11919.niams6.NL.5, 15642.11919.niams9.L...   \n",
       "28    2670000   2680000  {15642.11919.niams9.NL.6, 15642.11919.niams9.N...   \n",
       "29    2700000   2710000                           {15642.11919.niams5.L.6}   \n",
       "30    2730000   2740000  {15642.11919.niams30.L.3, 15642.11919.niams28....   \n",
       "31    4490000   4500000  {15642.11919.niams6.L.9, 15642.11919.NC.Staphy...   \n",
       "\n",
       "    read_hits  num_samples  prior_bin_stop  is_connected  \n",
       "0           3            3             NaN         False  \n",
       "1           4            4        180000.0          True  \n",
       "2           4            4        190000.0         False  \n",
       "3          12           11        330000.0         False  \n",
       "4           3            3        470000.0         False  \n",
       "5           2            2        600000.0         False  \n",
       "6           3            3        720000.0          True  \n",
       "7           5            5        730000.0         False  \n",
       "8           7            7        830000.0         False  \n",
       "9          12           12        930000.0         False  \n",
       "10          2            2       1030000.0         False  \n",
       "11          1            1       1120000.0         False  \n",
       "12          1            1       1610000.0         False  \n",
       "13          1            1       1680000.0         False  \n",
       "14          1            1       1740000.0          True  \n",
       "15          6            6       1750000.0         False  \n",
       "16          2            2       1800000.0          True  \n",
       "17          2            2       1810000.0         False  \n",
       "18          6            6       1860000.0         False  \n",
       "19          1            1       1920000.0         False  \n",
       "20          2            2       1980000.0         False  \n",
       "21          1            1       2030000.0         False  \n",
       "22          4            4       2070000.0         False  \n",
       "23          4            4       2450000.0         False  \n",
       "24          2            1       2490000.0         False  \n",
       "25          1            1       2520000.0         False  \n",
       "26          6            6       2590000.0         False  \n",
       "27          7            6       2620000.0         False  \n",
       "28          4            4       2650000.0         False  \n",
       "29          1            1       2680000.0         False  \n",
       "30          3            3       2710000.0         False  \n",
       "31         12           12       2740000.0         False  "
      ]
     },
     "metadata": {},
     "output_type": "display_data"
    },
    {
     "data": {
      "text/html": [
       "<div>\n",
       "<style scoped>\n",
       "    .dataframe tbody tr th:only-of-type {\n",
       "        vertical-align: middle;\n",
       "    }\n",
       "\n",
       "    .dataframe tbody tr th {\n",
       "        vertical-align: top;\n",
       "    }\n",
       "\n",
       "    .dataframe thead th {\n",
       "        text-align: right;\n",
       "    }\n",
       "</style>\n",
       "<table border=\"1\" class=\"dataframe\">\n",
       "  <thead>\n",
       "    <tr style=\"text-align: right;\">\n",
       "      <th></th>\n",
       "      <th>index</th>\n",
       "      <th>bin_group</th>\n",
       "      <th>samples</th>\n",
       "      <th>sample_counts</th>\n",
       "      <th>read_counts</th>\n",
       "    </tr>\n",
       "  </thead>\n",
       "  <tbody>\n",
       "    <tr>\n",
       "      <th>0</th>\n",
       "      <td>27</td>\n",
       "      <td>[[4490000, 4500000]]</td>\n",
       "      <td>{15642.11919.niams6.L.9, 15642.11919.NC.Staphy...</td>\n",
       "      <td>12</td>\n",
       "      <td>12</td>\n",
       "    </tr>\n",
       "    <tr>\n",
       "      <th>1</th>\n",
       "      <td>7</td>\n",
       "      <td>[[1020000, 1030000]]</td>\n",
       "      <td>{15642.11919.niams6.NL.3, 15642.11919.niams28....</td>\n",
       "      <td>12</td>\n",
       "      <td>12</td>\n",
       "    </tr>\n",
       "    <tr>\n",
       "      <th>2</th>\n",
       "      <td>2</td>\n",
       "      <td>[[460000, 470000]]</td>\n",
       "      <td>{15642.11919.niams6.L.5, 15642.11919.niams13.L...</td>\n",
       "      <td>11</td>\n",
       "      <td>12</td>\n",
       "    </tr>\n",
       "    <tr>\n",
       "      <th>3</th>\n",
       "      <td>12</td>\n",
       "      <td>[[1790000, 1800000], [1800000, 1810000]]</td>\n",
       "      <td>{15642.11919.niams28.NL.3, 15642.11919.niams28...</td>\n",
       "      <td>8</td>\n",
       "      <td>8</td>\n",
       "    </tr>\n",
       "    <tr>\n",
       "      <th>4</th>\n",
       "      <td>6</td>\n",
       "      <td>[[920000, 930000]]</td>\n",
       "      <td>{15642.11919.niams28.L.10, 15642.11919.NC.Stap...</td>\n",
       "      <td>7</td>\n",
       "      <td>7</td>\n",
       "    </tr>\n",
       "    <tr>\n",
       "      <th>5</th>\n",
       "      <td>0</td>\n",
       "      <td>[[170000, 180000], [180000, 190000]]</td>\n",
       "      <td>{15642.11919.niams6.NL.6, 15642.11919.niams28....</td>\n",
       "      <td>7</td>\n",
       "      <td>7</td>\n",
       "    </tr>\n",
       "    <tr>\n",
       "      <th>6</th>\n",
       "      <td>14</td>\n",
       "      <td>[[1910000, 1920000]]</td>\n",
       "      <td>{15642.11919.niams14.L.8, 15642.11919.niams30....</td>\n",
       "      <td>6</td>\n",
       "      <td>6</td>\n",
       "    </tr>\n",
       "    <tr>\n",
       "      <th>7</th>\n",
       "      <td>23</td>\n",
       "      <td>[[2640000, 2650000]]</td>\n",
       "      <td>{15642.11919.niams6.NL.5, 15642.11919.niams9.L...</td>\n",
       "      <td>6</td>\n",
       "      <td>7</td>\n",
       "    </tr>\n",
       "    <tr>\n",
       "      <th>8</th>\n",
       "      <td>22</td>\n",
       "      <td>[[2610000, 2620000]]</td>\n",
       "      <td>{15642.11919.niams28.NL.4, 15642.11919.VN13B11...</td>\n",
       "      <td>6</td>\n",
       "      <td>6</td>\n",
       "    </tr>\n",
       "    <tr>\n",
       "      <th>9</th>\n",
       "      <td>4</td>\n",
       "      <td>[[710000, 720000], [720000, 730000]]</td>\n",
       "      <td>{15642.11919.niams13.NL.7, 15642.11919.niams6....</td>\n",
       "      <td>5</td>\n",
       "      <td>5</td>\n",
       "    </tr>\n",
       "    <tr>\n",
       "      <th>10</th>\n",
       "      <td>5</td>\n",
       "      <td>[[820000, 830000]]</td>\n",
       "      <td>{15642.11919.niams14.L.1, 15642.11919.niams18....</td>\n",
       "      <td>5</td>\n",
       "      <td>5</td>\n",
       "    </tr>\n",
       "    <tr>\n",
       "      <th>11</th>\n",
       "      <td>19</td>\n",
       "      <td>[[2480000, 2490000]]</td>\n",
       "      <td>{15642.11919.niams5.NL.4, 15642.11919.niams30....</td>\n",
       "      <td>4</td>\n",
       "      <td>4</td>\n",
       "    </tr>\n",
       "    <tr>\n",
       "      <th>12</th>\n",
       "      <td>18</td>\n",
       "      <td>[[2440000, 2450000]]</td>\n",
       "      <td>{15642.11919.niams28.NL.3, 15642.11919.NC.Stap...</td>\n",
       "      <td>4</td>\n",
       "      <td>4</td>\n",
       "    </tr>\n",
       "    <tr>\n",
       "      <th>13</th>\n",
       "      <td>1</td>\n",
       "      <td>[[320000, 330000]]</td>\n",
       "      <td>{15642.11919.niams13.L.3, 15642.11919.niams6.L...</td>\n",
       "      <td>4</td>\n",
       "      <td>4</td>\n",
       "    </tr>\n",
       "    <tr>\n",
       "      <th>14</th>\n",
       "      <td>24</td>\n",
       "      <td>[[2670000, 2680000]]</td>\n",
       "      <td>{15642.11919.niams9.NL.6, 15642.11919.niams9.N...</td>\n",
       "      <td>4</td>\n",
       "      <td>4</td>\n",
       "    </tr>\n",
       "    <tr>\n",
       "      <th>15</th>\n",
       "      <td>26</td>\n",
       "      <td>[[2730000, 2740000]]</td>\n",
       "      <td>{15642.11919.niams30.L.3, 15642.11919.niams28....</td>\n",
       "      <td>3</td>\n",
       "      <td>3</td>\n",
       "    </tr>\n",
       "    <tr>\n",
       "      <th>16</th>\n",
       "      <td>3</td>\n",
       "      <td>[[590000, 600000]]</td>\n",
       "      <td>{15642.11919.niams14.NL.9, 15642.11919.niams28...</td>\n",
       "      <td>3</td>\n",
       "      <td>3</td>\n",
       "    </tr>\n",
       "    <tr>\n",
       "      <th>17</th>\n",
       "      <td>8</td>\n",
       "      <td>[[1110000, 1120000]]</td>\n",
       "      <td>{15642.11919.niams30.NL.4, 15642.11919.niams28...</td>\n",
       "      <td>2</td>\n",
       "      <td>2</td>\n",
       "    </tr>\n",
       "    <tr>\n",
       "      <th>18</th>\n",
       "      <td>11</td>\n",
       "      <td>[[1730000, 1740000], [1740000, 1750000]]</td>\n",
       "      <td>{15642.11919.niams18.L.2, 15642.11919.niams28....</td>\n",
       "      <td>2</td>\n",
       "      <td>2</td>\n",
       "    </tr>\n",
       "    <tr>\n",
       "      <th>19</th>\n",
       "      <td>16</td>\n",
       "      <td>[[2020000, 2030000]]</td>\n",
       "      <td>{15642.11919.niams14.NL.7, 15642.11919.niams13...</td>\n",
       "      <td>2</td>\n",
       "      <td>2</td>\n",
       "    </tr>\n",
       "    <tr>\n",
       "      <th>20</th>\n",
       "      <td>13</td>\n",
       "      <td>[[1850000, 1860000]]</td>\n",
       "      <td>{15642.11919.niams18.NL.8, 15642.11919.niams13...</td>\n",
       "      <td>2</td>\n",
       "      <td>2</td>\n",
       "    </tr>\n",
       "    <tr>\n",
       "      <th>21</th>\n",
       "      <td>10</td>\n",
       "      <td>[[1670000, 1680000]]</td>\n",
       "      <td>{15642.11919.niams13.NL.9}</td>\n",
       "      <td>1</td>\n",
       "      <td>1</td>\n",
       "    </tr>\n",
       "    <tr>\n",
       "      <th>22</th>\n",
       "      <td>20</td>\n",
       "      <td>[[2510000, 2520000]]</td>\n",
       "      <td>{15642.11919.niams14.NL.6}</td>\n",
       "      <td>1</td>\n",
       "      <td>2</td>\n",
       "    </tr>\n",
       "    <tr>\n",
       "      <th>23</th>\n",
       "      <td>21</td>\n",
       "      <td>[[2580000, 2590000]]</td>\n",
       "      <td>{15642.11919.niams30.NL.3}</td>\n",
       "      <td>1</td>\n",
       "      <td>1</td>\n",
       "    </tr>\n",
       "    <tr>\n",
       "      <th>24</th>\n",
       "      <td>9</td>\n",
       "      <td>[[1600000, 1610000]]</td>\n",
       "      <td>{15642.11919.niams13.L.7}</td>\n",
       "      <td>1</td>\n",
       "      <td>1</td>\n",
       "    </tr>\n",
       "    <tr>\n",
       "      <th>25</th>\n",
       "      <td>15</td>\n",
       "      <td>[[1970000, 1980000]]</td>\n",
       "      <td>{15642.11919.niams6.NL.8}</td>\n",
       "      <td>1</td>\n",
       "      <td>1</td>\n",
       "    </tr>\n",
       "    <tr>\n",
       "      <th>26</th>\n",
       "      <td>25</td>\n",
       "      <td>[[2700000, 2710000]]</td>\n",
       "      <td>{15642.11919.niams5.L.6}</td>\n",
       "      <td>1</td>\n",
       "      <td>1</td>\n",
       "    </tr>\n",
       "    <tr>\n",
       "      <th>27</th>\n",
       "      <td>17</td>\n",
       "      <td>[[2060000, 2070000]]</td>\n",
       "      <td>{15642.11919.niams14.NL.9}</td>\n",
       "      <td>1</td>\n",
       "      <td>1</td>\n",
       "    </tr>\n",
       "  </tbody>\n",
       "</table>\n",
       "</div>"
      ],
      "text/plain": [
       "    index                                 bin_group  \\\n",
       "0      27                      [[4490000, 4500000]]   \n",
       "1       7                      [[1020000, 1030000]]   \n",
       "2       2                        [[460000, 470000]]   \n",
       "3      12  [[1790000, 1800000], [1800000, 1810000]]   \n",
       "4       6                        [[920000, 930000]]   \n",
       "5       0      [[170000, 180000], [180000, 190000]]   \n",
       "6      14                      [[1910000, 1920000]]   \n",
       "7      23                      [[2640000, 2650000]]   \n",
       "8      22                      [[2610000, 2620000]]   \n",
       "9       4      [[710000, 720000], [720000, 730000]]   \n",
       "10      5                        [[820000, 830000]]   \n",
       "11     19                      [[2480000, 2490000]]   \n",
       "12     18                      [[2440000, 2450000]]   \n",
       "13      1                        [[320000, 330000]]   \n",
       "14     24                      [[2670000, 2680000]]   \n",
       "15     26                      [[2730000, 2740000]]   \n",
       "16      3                        [[590000, 600000]]   \n",
       "17      8                      [[1110000, 1120000]]   \n",
       "18     11  [[1730000, 1740000], [1740000, 1750000]]   \n",
       "19     16                      [[2020000, 2030000]]   \n",
       "20     13                      [[1850000, 1860000]]   \n",
       "21     10                      [[1670000, 1680000]]   \n",
       "22     20                      [[2510000, 2520000]]   \n",
       "23     21                      [[2580000, 2590000]]   \n",
       "24      9                      [[1600000, 1610000]]   \n",
       "25     15                      [[1970000, 1980000]]   \n",
       "26     25                      [[2700000, 2710000]]   \n",
       "27     17                      [[2060000, 2070000]]   \n",
       "\n",
       "                                              samples  sample_counts  \\\n",
       "0   {15642.11919.niams6.L.9, 15642.11919.NC.Staphy...             12   \n",
       "1   {15642.11919.niams6.NL.3, 15642.11919.niams28....             12   \n",
       "2   {15642.11919.niams6.L.5, 15642.11919.niams13.L...             11   \n",
       "3   {15642.11919.niams28.NL.3, 15642.11919.niams28...              8   \n",
       "4   {15642.11919.niams28.L.10, 15642.11919.NC.Stap...              7   \n",
       "5   {15642.11919.niams6.NL.6, 15642.11919.niams28....              7   \n",
       "6   {15642.11919.niams14.L.8, 15642.11919.niams30....              6   \n",
       "7   {15642.11919.niams6.NL.5, 15642.11919.niams9.L...              6   \n",
       "8   {15642.11919.niams28.NL.4, 15642.11919.VN13B11...              6   \n",
       "9   {15642.11919.niams13.NL.7, 15642.11919.niams6....              5   \n",
       "10  {15642.11919.niams14.L.1, 15642.11919.niams18....              5   \n",
       "11  {15642.11919.niams5.NL.4, 15642.11919.niams30....              4   \n",
       "12  {15642.11919.niams28.NL.3, 15642.11919.NC.Stap...              4   \n",
       "13  {15642.11919.niams13.L.3, 15642.11919.niams6.L...              4   \n",
       "14  {15642.11919.niams9.NL.6, 15642.11919.niams9.N...              4   \n",
       "15  {15642.11919.niams30.L.3, 15642.11919.niams28....              3   \n",
       "16  {15642.11919.niams14.NL.9, 15642.11919.niams28...              3   \n",
       "17  {15642.11919.niams30.NL.4, 15642.11919.niams28...              2   \n",
       "18  {15642.11919.niams18.L.2, 15642.11919.niams28....              2   \n",
       "19  {15642.11919.niams14.NL.7, 15642.11919.niams13...              2   \n",
       "20  {15642.11919.niams18.NL.8, 15642.11919.niams13...              2   \n",
       "21                         {15642.11919.niams13.NL.9}              1   \n",
       "22                         {15642.11919.niams14.NL.6}              1   \n",
       "23                         {15642.11919.niams30.NL.3}              1   \n",
       "24                          {15642.11919.niams13.L.7}              1   \n",
       "25                          {15642.11919.niams6.NL.8}              1   \n",
       "26                           {15642.11919.niams5.L.6}              1   \n",
       "27                         {15642.11919.niams14.NL.9}              1   \n",
       "\n",
       "    read_counts  \n",
       "0            12  \n",
       "1            12  \n",
       "2            12  \n",
       "3             8  \n",
       "4             7  \n",
       "5             7  \n",
       "6             6  \n",
       "7             7  \n",
       "8             6  \n",
       "9             5  \n",
       "10            5  \n",
       "11            4  \n",
       "12            4  \n",
       "13            4  \n",
       "14            4  \n",
       "15            3  \n",
       "16            3  \n",
       "17            2  \n",
       "18            2  \n",
       "19            2  \n",
       "20            2  \n",
       "21            1  \n",
       "22            2  \n",
       "23            1  \n",
       "24            1  \n",
       "25            1  \n",
       "26            1  \n",
       "27            1  "
      ]
     },
     "metadata": {},
     "output_type": "display_data"
    },
    {
     "data": {
      "image/png": "[encoded data removed]",
      "text/plain": [
       "<Figure size 2500x800 with 1 Axes>"
      ]
     },
     "metadata": {},
     "output_type": "display_data"
    }
   ],
   "source": [
    "x = micov_main('G009982895', gen_len_50, pos_50, biom_df_50, cov_50, taxa, [], [], plot=True, bin_size=10000)"
   ]
  },
  {
   "cell_type": "code",
   "execution_count": 4,
   "id": "86aa48dd-bb8b-4d1c-b7ea-94ebd74251d3",
   "metadata": {
    "tags": []
   },
   "outputs": [],
   "source": [
    "pass_50, fail_50 = loop_micov(gen_len_50, pos_50, biom_df_50, cov_50, taxa) #, plot=True)"
   ]
  },
  {
   "cell_type": "code",
   "execution_count": null,
   "id": "435fbc81-ff44-4824-b4d8-d17521ba4d2a",
   "metadata": {
    "tags": []
   },
   "outputs": [],
   "source": [
    "loop_list(pass_50, biom_df_50)"
   ]
  },
  {
   "cell_type": "code",
   "execution_count": null,
   "id": "89ba501f-4969-42de-8704-e05a49283942",
   "metadata": {
    "tags": []
   },
   "outputs": [],
   "source": [
    "loop_list(fail_50, biom_df_50)"
   ]
  },
  {
   "cell_type": "code",
   "execution_count": 13,
   "id": "c2ee3014-06d4-4281-aa8f-3ca4c48a0460",
   "metadata": {
    "tags": []
   },
   "outputs": [
    {
     "name": "stdout",
     "output_type": "stream",
     "text": [
      "Sensitivity / Recall / True Positive Rate\t 38.095238095238095 %\n",
      "Specificity / True Negative Rate\t\t 96.1038961038961 %\n",
      "Accuracy\t\t\t\t\t 83.6734693877551 %\n",
      "Precision / Positivie Predictive Value\t\t 72.72727272727273 %\n",
      "F1\t\t\t\t\t\t 50.0 %\n"
     ]
    }
   ],
   "source": [
    "sensitivity_specificity(pass_50, fail_50, biom_df_50)"
   ]
  },
  {
   "cell_type": "code",
   "execution_count": null,
   "id": "8e1f4d4f-7fff-4b1a-8bde-7478f746dc81",
   "metadata": {},
   "outputs": [],
   "source": []
  }
 ],
 "metadata": {
  "kernelspec": {
   "display_name": "Python 3 (ipykernel)",
   "language": "python",
   "name": "python3"
  },
  "language_info": {
   "codemirror_mode": {
    "name": "ipython",
    "version": 3
   },
   "file_extension": ".py",
   "mimetype": "text/x-python",
   "name": "python",
   "nbconvert_exporter": "python",
   "pygments_lexer": "ipython3",
   "version": "3.8.16"
  }
 },
 "nbformat": 4,
 "nbformat_minor": 5
}
