{
 "cells": [
  {
   "cell_type": "markdown",
   "id": "b0a8d09c-0e95-45d5-a211-604a519901f4",
   "metadata": {},
   "source": [
    "## Alpha/Beta Diversity for EAC Progresson\n",
    "Date: 5/15/23  \n",
    "Goal: Get basic micorbial alpha/beta diversity  \n",
    "Will likely expand upon this more before the paper, but for now just getting an idea of what our samples look like"
   ]
  },
  {
   "cell_type": "markdown",
   "id": "cb282739-b987-408d-89fa-122ae2f76528",
   "metadata": {},
   "source": [
    "### Imports"
   ]
  },
  {
   "cell_type": "code",
   "execution_count": 3,
   "id": "db0e6695-3491-4eac-9ec3-437d941d0e61",
   "metadata": {},
   "outputs": [],
   "source": [
    "import pandas as pd\n",
    "import qiime2 as q2\n",
    "from qiime2 import Artifact, Metadata\n",
    "from biom import load_table\n",
    "\n",
    "from qiime2.plugins.taxa.visualizers import barplot\n",
    "from qiime2.plugins.diversity.pipelines import alpha\n",
    "from qiime2.plugins.diversity.visualizers import alpha_group_significance\n",
    "from qiime2.plugins.feature_table.methods import merge\n",
    "from qiime2.plugins.emperor.visualizers import biplot"
   ]
  },
  {
   "cell_type": "code",
   "execution_count": 4,
   "id": "a551b587-4a96-4de2-bef4-e719b2aac8f0",
   "metadata": {},
   "outputs": [
    {
     "data": {
      "text/plain": [
       "<artifact: FeatureData[Taxonomy] uuid: ee8ead32-f0a3-4bc0-832e-2066881b28e6>"
      ]
     },
     "execution_count": 4,
     "metadata": {},
     "output_type": "execute_result"
    }
   ],
   "source": [
    "#WOL Taxonomy in FeatureData[Taxonomy] Form\n",
    "wol_taxonomy = Artifact.import_data('FeatureData[Taxonomy]', '/Users/cguccion/Dropbox/Storage/HelpfulLabDocs/taxonomy_trees/WOL/lineages.txt', 'HeaderlessTSVTaxonomyFormat')\n",
    "wol_taxonomy"
   ]
  },
  {
   "cell_type": "markdown",
   "id": "33a635c6-ae6d-4588-8486-2240795103c4",
   "metadata": {},
   "source": [
    "### Functions"
   ]
  },
  {
   "cell_type": "code",
   "execution_count": 5,
   "id": "fd10124e-0088-4607-873b-d0fa3624e12a",
   "metadata": {},
   "outputs": [],
   "source": [
    "def combine_qza_meta(fn_list, combo_meta_col=['sample_name', 'study_label']):\n",
    "    \n",
    "    '''Combine all imported fn's'''\n",
    "    ft = Artifact.load('processed_data/qza/' + fn_list[0] + '.qza')\n",
    "    \n",
    "    meta = pd.read_csv('processed_data/metadata/metadata_' + fn_list[0] + '.tsv', sep='\\t', index_col=0)\n",
    "    meta['study_label'] = fn_list[0]\n",
    "    \n",
    "    count=0\n",
    "    for fn in fn_list[1:]:\n",
    "        \n",
    "        #Merge taxonomy tables\n",
    "        current_ft = Artifact.load('processed_data/qza/' + fn + '.qza')\n",
    "        ft, = merge([ft, current_ft])\n",
    "        \n",
    "        #Merge metadata\n",
    "        current_meta = pd.read_csv('processed_data/metadata/metadata_' + fn + '.tsv', sep='\\t', index_col=0)\n",
    "        current_meta['study_label'] = fn\n",
    "        meta = pd.merge(meta, current_meta, how = 'outer', on= combo_meta_col, suffixes=('_' + str(count), '_' + str(count+1)))\n",
    "    \n",
    "        count+=1\n",
    "        \n",
    "    #meta = pd.concat([meta['study_label'], meta.drop('study_label', axis=1)], axis=1)\n",
    "    meta = meta[['study_label']]\n",
    "    \n",
    "    meta = q2.Metadata(meta)\n",
    "    \n",
    "    #print(meta)\n",
    "    \n",
    "    return(ft, meta)"
   ]
  },
  {
   "cell_type": "code",
   "execution_count": 63,
   "id": "01973bdc-fc89-404c-9dfb-522a6daf0e95",
   "metadata": {},
   "outputs": [],
   "source": [
    "def multi_taxonomy_barplot(fn_list, name, taxonomy=wol_taxonomy, combo_meta_col =['sample_name', 'study_label']):\n",
    "    \n",
    "    ft, meta = combine_qza_meta(fn_list, combo_meta_col=combo_meta_col)\n",
    "    \n",
    "    '''Create taxonomy barplots'''\n",
    "    barplot_output = barplot(table=ft, taxonomy=taxonomy, metadata=meta)\n",
    "    barplot_output_v = barplot_output.visualization\n",
    "    barplot_output_v.save('outputs/taxonomy_barplots/barplot_' + name + '.qzv')\n",
    "        "
   ]
  },
  {
   "cell_type": "code",
   "execution_count": 3,
   "id": "026cf42e-bd6e-4da4-9cf1-125d8e57719a",
   "metadata": {},
   "outputs": [],
   "source": [
    "def taxonomy_barplot(fn, taxonomy=wol_taxonomy):\n",
    "    '''Create taxonomy barplots'''\n",
    "    \n",
    "    ft = Artifact.load('processed_data/qza/' + fn + '.qza')\n",
    "    meta = q2.Metadata(pd.read_csv('processed_data/metadata/metadata_' + fn + '.tsv', sep='\\t', index_col=0))\n",
    "    \n",
    "    barplot_output = barplot(table=ft, taxonomy=taxonomy, metadata=meta)\n",
    "    barplot_output_v = barplot_output.visualization\n",
    "    barplot_output_v.save('outputs/taxonomy_barplots/barplot_' + fn + '.qzv')"
   ]
  },
  {
   "cell_type": "code",
   "execution_count": 89,
   "id": "a399ef16-daf8-4236-af41-30cdae531646",
   "metadata": {},
   "outputs": [],
   "source": [
    "def multi_basic_alpha(fn_list, name, metric = 'observed_features', combo_meta_col =['sample_name', 'study_label']):\n",
    "    \n",
    "    ft, meta = combine_qza_meta(fn_list, combo_meta_col=combo_meta_col)\n",
    "    \n",
    "    alpha_vector, = alpha(table= ft, metric=metric)\n",
    "    alpha_output = alpha_group_significance(alpha_diversity = alpha_vector, metadata = meta)\n",
    "    alpha_output_v = alpha_output.visualization\n",
    "    alpha_output_v.save('outputs/alpha_plots/alpha_' + name + '_' + metric + '.qzv')"
   ]
  },
  {
   "cell_type": "code",
   "execution_count": 88,
   "id": "0d04f58f-3ca0-4ed5-bf2d-2fe7aba340cd",
   "metadata": {},
   "outputs": [],
   "source": [
    "def basic_alpha(fn, metric = 'observed_features'):\n",
    "    '''Run basic alpha diversity'''\n",
    "    \n",
    "    ft = Artifact.load('processed_data/qza/' + fn + '.qza')\n",
    "    meta = q2.Metadata(pd.read_csv('processed_data/metadata/metadata_' + fn + '.tsv', sep='\\t', index_col=0))\n",
    "    \n",
    "    alpha_vector, = alpha(table= ft, metric=metric)\n",
    "    alpha_output = alpha_group_significance(alpha_diversity = alpha_vector, metadata = meta)\n",
    "    alpha_output_v = alpha_output.visualization\n",
    "    alpha_output_v.save('outputs/alpha_plots/alpha_' + fn + '_' + metric + '.qzv')"
   ]
  },
  {
   "cell_type": "code",
   "execution_count": 7,
   "id": "30f1d9be-592a-482b-a98c-4ea323da0660",
   "metadata": {},
   "outputs": [],
   "source": [
    "def beta_decoide(fn_list, name, metric='study_label', permutations=999):\n",
    "    \n",
    "    '''Calculates beta diversity for unweighted \n",
    "    & weighted unifraq\n",
    "\n",
    "    Parameters\n",
    "    ---------\n",
    "    ft: q2 FeatureTable[Frequency] object\n",
    "        Qiime2 taxonomy object\n",
    "    \n",
    "    meta: pd df\n",
    "        metadata\n",
    "        \n",
    "    metric: str\n",
    "        The column in sample_meta used to\n",
    "        calculate beta diversity across \n",
    "        samples\n",
    "        \n",
    "    return_biplot: bool (False)\n",
    "        Returns the biplot instead \n",
    "        of the permaonva ouputs \n",
    "    \n",
    "    Returns\n",
    "    -------\n",
    "    beta_result_d: q2 Visulization object\n",
    "        Qiime2 visulaization object of \n",
    "        decoide\n",
    "    \n",
    "    Notes\n",
    "    -----\n",
    "    '''\n",
    "    \n",
    "    ft, meta = combine_qza_meta(fn_list)\n",
    "    \n",
    "    '''\n",
    "    #Save ft for command line processing\n",
    "    ft.save('deicode_processing.qza')\n",
    "    \n",
    "    #Run deicode from command line using qza created above\n",
    "    !qiime deicode rpca --i-table deicode_processing.qza --o-biplot deicode_biplot.qza --o-distance-matrix deicode_distance_test.qza\n",
    "    \n",
    "    #--p-min-sample-count 500 --p-min-feature-count $decoide_min_feature_count\n",
    "    '''\n",
    "    \n",
    "    #Import biplot back into python\n",
    "    rpca_biplot = Artifact.load('deicode_biplot.qza')\n",
    "    \n",
    "    #Import biplot back into python\n",
    "    rpca_distance_matrix = Artifact.load('deicode_distance_test.qza')\n",
    "    \n",
    "    #Create emperor visualization from the biplot result\n",
    "    rpca_biplot_emperor = biplot(biplot = rpca_biplot, sample_metadata = meta)\n",
    "    \n",
    "    rpca_biplot_emperor_v = rpca_biplot_emperor.visualization\n",
    "    rpca_biplot_emperor_v.save('outputs/RPCA/RPCA_' + name + '_' + '.qzv')\n",
    "    \n",
    "    #Calculate permanova \n",
    "    beta_result_d = diversity.actions.beta_group_significance(distance_matrix=rpca_distance_matrix,\n",
    "                                                              metadata=meta.get_column(metric),\n",
    "                                                              method = 'permanova', pairwise = True,\n",
    "                                                              permutations=permutations)\n",
    "    \n",
    "    \n",
    "    beta_result_v = beta_result_d.visualization\n",
    "    beta_result_v.save('outputs/RPCA/permanova_' + name + '_' + '.qzv')\n",
    "    \n",
    "    return(beta_result_d)  "
   ]
  },
  {
   "cell_type": "markdown",
   "id": "0ca924d1-2846-40c1-9926-88e7a9ee1cb8",
   "metadata": {},
   "source": [
    "### Taxonomy Barplots"
   ]
  },
  {
   "cell_type": "code",
   "execution_count": 6,
   "id": "cc20ac93-1764-492d-a0cc-945a90fee4b5",
   "metadata": {},
   "outputs": [],
   "source": [
    "taxonomy_barplot('normal_genome_WOL')"
   ]
  },
  {
   "cell_type": "code",
   "execution_count": 7,
   "id": "b68e99c3-c888-4299-a827-367f04437a00",
   "metadata": {},
   "outputs": [],
   "source": [
    "taxonomy_barplot('GERD_genome_WOL')"
   ]
  },
  {
   "cell_type": "code",
   "execution_count": 8,
   "id": "b2de4b31-2eba-4b5d-8cd9-24926bab07d6",
   "metadata": {},
   "outputs": [],
   "source": [
    "taxonomy_barplot('BE_genome_WOL')"
   ]
  },
  {
   "cell_type": "code",
   "execution_count": 9,
   "id": "914dac2b-07f6-47e3-b21d-d81779554d3f",
   "metadata": {},
   "outputs": [],
   "source": [
    "taxonomy_barplot('EAC_genome_WOL')"
   ]
  },
  {
   "cell_type": "code",
   "execution_count": 4,
   "id": "99d0ce9b-a9a4-4ff4-ba20-ebaf0e49d5af",
   "metadata": {},
   "outputs": [],
   "source": [
    "taxonomy_barplot('BE_Ross_paired_genome_WOL')"
   ]
  },
  {
   "cell_type": "code",
   "execution_count": 5,
   "id": "3472a5d1-e412-421f-81c6-da318ded99cb",
   "metadata": {},
   "outputs": [],
   "source": [
    "taxonomy_barplot('EAC_Ross_paired_genome_WOL')"
   ]
  },
  {
   "cell_type": "code",
   "execution_count": 9,
   "id": "9549d478-4273-4fea-a4ac-2c965e817480",
   "metadata": {},
   "outputs": [],
   "source": [
    "taxonomy_barplot('BE_Prog_T2_genome_WOL')"
   ]
  },
  {
   "cell_type": "markdown",
   "id": "402e1b83-3814-4933-8fd2-b77ada92ef96",
   "metadata": {},
   "source": [
    "#### Run Jan 17, 2024"
   ]
  },
  {
   "cell_type": "code",
   "execution_count": 5,
   "id": "6bc867e3-12cc-4480-8314-3dec835c4aa5",
   "metadata": {},
   "outputs": [],
   "source": [
    "taxonomy_barplot('normal_genome_WOL_scrubbed')"
   ]
  },
  {
   "cell_type": "code",
   "execution_count": 6,
   "id": "f4c20a4b-eaeb-400f-8f89-69fefe822a50",
   "metadata": {},
   "outputs": [],
   "source": [
    "taxonomy_barplot('GERD_genome_WOL_scrubbed')"
   ]
  },
  {
   "cell_type": "code",
   "execution_count": 7,
   "id": "160038d8-77b4-43e3-bddc-aa6ac07ebb1e",
   "metadata": {},
   "outputs": [],
   "source": [
    "taxonomy_barplot('BE_NP_genome_WOL_scrubbed')"
   ]
  },
  {
   "cell_type": "code",
   "execution_count": 8,
   "id": "51118aaa-9d33-417e-9f5f-5ec8a33ed478",
   "metadata": {},
   "outputs": [],
   "source": [
    "taxonomy_barplot('BE_Prog_T1_genome_WOL_scrubbed')"
   ]
  },
  {
   "cell_type": "code",
   "execution_count": 9,
   "id": "152d33be-74f1-4c24-8674-59cea30dcd44",
   "metadata": {},
   "outputs": [],
   "source": [
    "taxonomy_barplot('BE_Prog_T2_genome_WOL_scrubbed')"
   ]
  },
  {
   "cell_type": "code",
   "execution_count": 11,
   "id": "89ee0e8e-0944-430a-bbc8-9f15fb8669f5",
   "metadata": {},
   "outputs": [],
   "source": [
    "taxonomy_barplot('BE_exact_Ross_paired_genome_WOL_scrubbed')"
   ]
  },
  {
   "cell_type": "code",
   "execution_count": 12,
   "id": "aadb813b-2d0c-4196-86c9-84cd7c53e90d",
   "metadata": {},
   "outputs": [],
   "source": [
    "taxonomy_barplot('EAC_ICGC_genome_WOL_scrubbed')"
   ]
  },
  {
   "cell_type": "code",
   "execution_count": 76,
   "id": "55cdeab0-a5fe-447e-9f86-34e9d1f4d85e",
   "metadata": {
    "tags": []
   },
   "outputs": [],
   "source": [
    "multi_taxonomy_barplot(['normal_genome_WOL_scrubbed', 'GERD_genome_WOL_scrubbed',\n",
    "                        'BE_NP_genome_WOL_scrubbed', 'BE_Prog_T1_genome_WOL_scrubbed',\n",
    "                       'BE_Prog_T2_genome_WOL_scrubbed', 'BE_exact_Ross_paired_genome_WOL_scrubbed',\n",
    "                       'EAC_ICGC_genome_WOL_scrubbed', 'EAC_Ross_paired_genome_WOL_scrubbed'],\n",
    "                      'Combo-Progression_WOL_scrubbed')"
   ]
  },
  {
   "cell_type": "markdown",
   "id": "b5162091-8030-4ced-a6cd-48586d6df7fa",
   "metadata": {},
   "source": [
    "### Alpha Plots"
   ]
  },
  {
   "cell_type": "code",
   "execution_count": 24,
   "id": "a677d661-8669-4e9c-b2e5-b0722f388461",
   "metadata": {},
   "outputs": [],
   "source": [
    "basic_alpha('BE_Ross_paired_genome_WOL')"
   ]
  },
  {
   "cell_type": "code",
   "execution_count": 25,
   "id": "9a562ddc-44f1-4e9c-a935-1a34a7e2d7d2",
   "metadata": {},
   "outputs": [],
   "source": [
    "basic_alpha('EAC_Ross_paired_genome_WOL')"
   ]
  },
  {
   "cell_type": "code",
   "execution_count": 23,
   "id": "a9027859-9004-48cc-acb8-e06809151c89",
   "metadata": {},
   "outputs": [],
   "source": [
    "basic_alpha('BE_Prog_T2_genome_WOL')"
   ]
  },
  {
   "cell_type": "code",
   "execution_count": 26,
   "id": "64546cce-0f4a-4a15-a0ee-f9f1e58f75ad",
   "metadata": {},
   "outputs": [],
   "source": [
    "basic_alpha('EAC_genome_WOL')"
   ]
  },
  {
   "cell_type": "markdown",
   "id": "921aa8e5-75ef-4cec-9b24-435b93d8ba23",
   "metadata": {},
   "source": [
    "#### Run Jan 17, 2024"
   ]
  },
  {
   "cell_type": "code",
   "execution_count": 90,
   "id": "f1215b56-8120-45df-8e81-75166658e896",
   "metadata": {},
   "outputs": [],
   "source": [
    "multi_basic_alpha(['normal_genome_WOL_scrubbed', 'GERD_genome_WOL_scrubbed',\n",
    "                        'BE_NP_genome_WOL_scrubbed', 'BE_Prog_T1_genome_WOL_scrubbed',\n",
    "                       'BE_Prog_T2_genome_WOL_scrubbed', 'BE_exact_Ross_paired_genome_WOL_scrubbed',\n",
    "                       'EAC_ICGC_genome_WOL_scrubbed', 'EAC_Ross_paired_genome_WOL_scrubbed'],\n",
    "                      'Combo-Progression_WOL_scrubbed')"
   ]
  },
  {
   "cell_type": "code",
   "execution_count": 91,
   "id": "ae83a4d4-d8af-445e-9d33-f4669b5d98e3",
   "metadata": {},
   "outputs": [],
   "source": [
    "multi_basic_alpha(['normal_genome_WOL_scrubbed', 'GERD_genome_WOL_scrubbed',\n",
    "                        'BE_NP_genome_WOL_scrubbed', 'BE_Prog_T1_genome_WOL_scrubbed',\n",
    "                       'BE_Prog_T2_genome_WOL_scrubbed', 'BE_exact_Ross_paired_genome_WOL_scrubbed',\n",
    "                       'EAC_ICGC_genome_WOL_scrubbed', 'EAC_Ross_paired_genome_WOL_scrubbed'],\n",
    "                      'Combo-Progression_WOL_scrubbed', 'shannon')"
   ]
  },
  {
   "cell_type": "markdown",
   "id": "4d35902b-6867-4cf2-ba2c-16510e2b12eb",
   "metadata": {},
   "source": [
    "#### RPCA"
   ]
  },
  {
   "cell_type": "code",
   "execution_count": 12,
   "id": "319ad8ff-f2b0-492c-9b0b-741eaddc8613",
   "metadata": {},
   "outputs": [
    {
     "ename": "KeyError",
     "evalue": "(3.0, 0.0, 'BE_Prog_T2_genome_WOL_scrubbed (n=1817)', '.15', 'top', 'center', -3728358448861741636, 90, None, False, 72, <weakref at 0x7fedff7de9a0; to 'MixedModeRenderer' at 0x7fedff7e5400>, 1.2)",
     "output_type": "error",
     "traceback": [
      "\u001b[0;31m---------------------------------------------------------------------------\u001b[0m",
      "\u001b[0;31mKeyError\u001b[0m                                  Traceback (most recent call last)",
      "\u001b[0;32m<ipython-input-12-bc25daac335b>\u001b[0m in \u001b[0;36m<module>\u001b[0;34m\u001b[0m\n\u001b[0;32m----> 1\u001b[0;31m beta_decoide(['normal_genome_WOL_scrubbed', 'GERD_genome_WOL_scrubbed',\n\u001b[0m\u001b[1;32m      2\u001b[0m                         \u001b[0;34m'BE_NP_genome_WOL_scrubbed'\u001b[0m\u001b[0;34m,\u001b[0m \u001b[0;34m'BE_Prog_T1_genome_WOL_scrubbed'\u001b[0m\u001b[0;34m,\u001b[0m\u001b[0;34m\u001b[0m\u001b[0;34m\u001b[0m\u001b[0m\n\u001b[1;32m      3\u001b[0m                        \u001b[0;34m'BE_Prog_T2_genome_WOL_scrubbed'\u001b[0m\u001b[0;34m,\u001b[0m \u001b[0;34m'BE_exact_Ross_paired_genome_WOL_scrubbed'\u001b[0m\u001b[0;34m,\u001b[0m\u001b[0;34m\u001b[0m\u001b[0;34m\u001b[0m\u001b[0m\n\u001b[1;32m      4\u001b[0m                        'EAC_ICGC_genome_WOL_scrubbed', 'EAC_Ross_paired_genome_WOL_scrubbed'],\n\u001b[1;32m      5\u001b[0m                       'Combo-Progression_WOL_scrubbed')\n",
      "\u001b[0;32m<ipython-input-7-d5c9611284d0>\u001b[0m in \u001b[0;36mbeta_decoide\u001b[0;34m(fn_list, name, metric, permutations)\u001b[0m\n\u001b[1;32m     56\u001b[0m \u001b[0;34m\u001b[0m\u001b[0m\n\u001b[1;32m     57\u001b[0m     \u001b[0;31m#Calculate permanova\u001b[0m\u001b[0;34m\u001b[0m\u001b[0;34m\u001b[0m\u001b[0;34m\u001b[0m\u001b[0m\n\u001b[0;32m---> 58\u001b[0;31m     beta_result_d = diversity.actions.beta_group_significance(distance_matrix=rpca_distance_matrix,\n\u001b[0m\u001b[1;32m     59\u001b[0m                                                               \u001b[0mmetadata\u001b[0m\u001b[0;34m=\u001b[0m\u001b[0mmeta\u001b[0m\u001b[0;34m.\u001b[0m\u001b[0mget_column\u001b[0m\u001b[0;34m(\u001b[0m\u001b[0mmetric\u001b[0m\u001b[0;34m)\u001b[0m\u001b[0;34m,\u001b[0m\u001b[0;34m\u001b[0m\u001b[0;34m\u001b[0m\u001b[0m\n\u001b[1;32m     60\u001b[0m                                                               \u001b[0mmethod\u001b[0m \u001b[0;34m=\u001b[0m \u001b[0;34m'permanova'\u001b[0m\u001b[0;34m,\u001b[0m \u001b[0mpairwise\u001b[0m \u001b[0;34m=\u001b[0m \u001b[0;32mTrue\u001b[0m\u001b[0;34m,\u001b[0m\u001b[0;34m\u001b[0m\u001b[0;34m\u001b[0m\u001b[0m\n",
      "\u001b[0;32m<decorator-gen-452>\u001b[0m in \u001b[0;36mbeta_group_significance\u001b[0;34m(distance_matrix, metadata, method, pairwise, permutations)\u001b[0m\n",
      "\u001b[0;32m~/miniconda3/envs/comad/lib/python3.8/site-packages/qiime2/sdk/action.py\u001b[0m in \u001b[0;36mbound_callable\u001b[0;34m(*args, **kwargs)\u001b[0m\n\u001b[1;32m    242\u001b[0m \u001b[0;34m\u001b[0m\u001b[0m\n\u001b[1;32m    243\u001b[0m                 \u001b[0;31m# Execute\u001b[0m\u001b[0;34m\u001b[0m\u001b[0;34m\u001b[0m\u001b[0;34m\u001b[0m\u001b[0m\n\u001b[0;32m--> 244\u001b[0;31m                 outputs = self._callable_executor_(scope, callable_args,\n\u001b[0m\u001b[1;32m    245\u001b[0m                                                    output_types, provenance)\n\u001b[1;32m    246\u001b[0m \u001b[0;34m\u001b[0m\u001b[0m\n",
      "\u001b[0;32m~/miniconda3/envs/comad/lib/python3.8/site-packages/qiime2/sdk/action.py\u001b[0m in \u001b[0;36m_callable_executor_\u001b[0;34m(self, scope, view_args, output_types, provenance)\u001b[0m\n\u001b[1;32m    450\u001b[0m         \u001b[0;31m# will also need to be updated to support OutPath instead of str.\u001b[0m\u001b[0;34m\u001b[0m\u001b[0;34m\u001b[0m\u001b[0;34m\u001b[0m\u001b[0m\n\u001b[1;32m    451\u001b[0m         \u001b[0;32mwith\u001b[0m \u001b[0mtempfile\u001b[0m\u001b[0;34m.\u001b[0m\u001b[0mTemporaryDirectory\u001b[0m\u001b[0;34m(\u001b[0m\u001b[0mprefix\u001b[0m\u001b[0;34m=\u001b[0m\u001b[0;34m'qiime2-temp-'\u001b[0m\u001b[0;34m)\u001b[0m \u001b[0;32mas\u001b[0m \u001b[0mtemp_dir\u001b[0m\u001b[0;34m:\u001b[0m\u001b[0;34m\u001b[0m\u001b[0;34m\u001b[0m\u001b[0m\n\u001b[0;32m--> 452\u001b[0;31m             \u001b[0mret_val\u001b[0m \u001b[0;34m=\u001b[0m \u001b[0mself\u001b[0m\u001b[0;34m.\u001b[0m\u001b[0m_callable\u001b[0m\u001b[0;34m(\u001b[0m\u001b[0moutput_dir\u001b[0m\u001b[0;34m=\u001b[0m\u001b[0mtemp_dir\u001b[0m\u001b[0;34m,\u001b[0m \u001b[0;34m**\u001b[0m\u001b[0mview_args\u001b[0m\u001b[0;34m)\u001b[0m\u001b[0;34m\u001b[0m\u001b[0;34m\u001b[0m\u001b[0m\n\u001b[0m\u001b[1;32m    453\u001b[0m             \u001b[0;32mif\u001b[0m \u001b[0mret_val\u001b[0m \u001b[0;32mis\u001b[0m \u001b[0;32mnot\u001b[0m \u001b[0;32mNone\u001b[0m\u001b[0;34m:\u001b[0m\u001b[0;34m\u001b[0m\u001b[0;34m\u001b[0m\u001b[0m\n\u001b[1;32m    454\u001b[0m                 raise TypeError(\n",
      "\u001b[0;32m~/miniconda3/envs/comad/lib/python3.8/site-packages/q2_diversity/_beta/_visualizer.py\u001b[0m in \u001b[0;36mbeta_group_significance\u001b[0;34m(output_dir, distance_matrix, metadata, method, pairwise, permutations)\u001b[0m\n\u001b[1;32m    191\u001b[0m             \u001b[0mbox\u001b[0m\u001b[0;34m.\u001b[0m\u001b[0mset_facecolor\u001b[0m\u001b[0;34m(\u001b[0m\u001b[0;34m'white'\u001b[0m\u001b[0;34m)\u001b[0m\u001b[0;34m\u001b[0m\u001b[0;34m\u001b[0m\u001b[0m\n\u001b[1;32m    192\u001b[0m         \u001b[0msns\u001b[0m\u001b[0;34m.\u001b[0m\u001b[0mdespine\u001b[0m\u001b[0;34m(\u001b[0m\u001b[0;34m)\u001b[0m\u001b[0;34m\u001b[0m\u001b[0;34m\u001b[0m\u001b[0m\n\u001b[0;32m--> 193\u001b[0;31m         \u001b[0mplt\u001b[0m\u001b[0;34m.\u001b[0m\u001b[0mtight_layout\u001b[0m\u001b[0;34m(\u001b[0m\u001b[0;34m)\u001b[0m\u001b[0;34m\u001b[0m\u001b[0;34m\u001b[0m\u001b[0m\n\u001b[0m\u001b[1;32m    194\u001b[0m         \u001b[0mfig\u001b[0m \u001b[0;34m=\u001b[0m \u001b[0max\u001b[0m\u001b[0;34m.\u001b[0m\u001b[0mget_figure\u001b[0m\u001b[0;34m(\u001b[0m\u001b[0;34m)\u001b[0m\u001b[0;34m\u001b[0m\u001b[0;34m\u001b[0m\u001b[0m\n\u001b[1;32m    195\u001b[0m         fig.savefig(os.path.join(output_dir, '%s-boxplots.png' %\n",
      "\u001b[0;32m~/miniconda3/envs/comad/lib/python3.8/site-packages/matplotlib/_api/deprecation.py\u001b[0m in \u001b[0;36mwrapper\u001b[0;34m(*args, **kwargs)\u001b[0m\n\u001b[1;32m    469\u001b[0m                 \u001b[0;34m\"parameter will become keyword-only %(removal)s.\"\u001b[0m\u001b[0;34m,\u001b[0m\u001b[0;34m\u001b[0m\u001b[0;34m\u001b[0m\u001b[0m\n\u001b[1;32m    470\u001b[0m                 name=name, obj_type=f\"parameter of {func.__name__}()\")\n\u001b[0;32m--> 471\u001b[0;31m         \u001b[0;32mreturn\u001b[0m \u001b[0mfunc\u001b[0m\u001b[0;34m(\u001b[0m\u001b[0;34m*\u001b[0m\u001b[0margs\u001b[0m\u001b[0;34m,\u001b[0m \u001b[0;34m**\u001b[0m\u001b[0mkwargs\u001b[0m\u001b[0;34m)\u001b[0m\u001b[0;34m\u001b[0m\u001b[0;34m\u001b[0m\u001b[0m\n\u001b[0m\u001b[1;32m    472\u001b[0m \u001b[0;34m\u001b[0m\u001b[0m\n\u001b[1;32m    473\u001b[0m     \u001b[0;32mreturn\u001b[0m \u001b[0mwrapper\u001b[0m\u001b[0;34m\u001b[0m\u001b[0;34m\u001b[0m\u001b[0m\n",
      "\u001b[0;32m~/miniconda3/envs/comad/lib/python3.8/site-packages/matplotlib/pyplot.py\u001b[0m in \u001b[0;36mtight_layout\u001b[0;34m(pad, h_pad, w_pad, rect)\u001b[0m\n\u001b[1;32m   1628\u001b[0m         \u001b[0msubplots\u001b[0m \u001b[0marea\u001b[0m \u001b[0;34m(\u001b[0m\u001b[0mincluding\u001b[0m \u001b[0mlabels\u001b[0m\u001b[0;34m)\u001b[0m \u001b[0mwill\u001b[0m \u001b[0mfit\u001b[0m\u001b[0;34m.\u001b[0m\u001b[0;34m\u001b[0m\u001b[0;34m\u001b[0m\u001b[0m\n\u001b[1;32m   1629\u001b[0m     \"\"\"\n\u001b[0;32m-> 1630\u001b[0;31m     \u001b[0mgcf\u001b[0m\u001b[0;34m(\u001b[0m\u001b[0;34m)\u001b[0m\u001b[0;34m.\u001b[0m\u001b[0mtight_layout\u001b[0m\u001b[0;34m(\u001b[0m\u001b[0mpad\u001b[0m\u001b[0;34m=\u001b[0m\u001b[0mpad\u001b[0m\u001b[0;34m,\u001b[0m \u001b[0mh_pad\u001b[0m\u001b[0;34m=\u001b[0m\u001b[0mh_pad\u001b[0m\u001b[0;34m,\u001b[0m \u001b[0mw_pad\u001b[0m\u001b[0;34m=\u001b[0m\u001b[0mw_pad\u001b[0m\u001b[0;34m,\u001b[0m \u001b[0mrect\u001b[0m\u001b[0;34m=\u001b[0m\u001b[0mrect\u001b[0m\u001b[0;34m)\u001b[0m\u001b[0;34m\u001b[0m\u001b[0;34m\u001b[0m\u001b[0m\n\u001b[0m\u001b[1;32m   1631\u001b[0m \u001b[0;34m\u001b[0m\u001b[0m\n\u001b[1;32m   1632\u001b[0m \u001b[0;34m\u001b[0m\u001b[0m\n",
      "\u001b[0;32m~/miniconda3/envs/comad/lib/python3.8/site-packages/matplotlib/figure.py\u001b[0m in \u001b[0;36mtight_layout\u001b[0;34m(self, pad, h_pad, w_pad, rect)\u001b[0m\n\u001b[1;32m   3109\u001b[0m                else suppress())\n\u001b[1;32m   3110\u001b[0m         \u001b[0;32mwith\u001b[0m \u001b[0mctx\u001b[0m\u001b[0;34m:\u001b[0m\u001b[0;34m\u001b[0m\u001b[0;34m\u001b[0m\u001b[0m\n\u001b[0;32m-> 3111\u001b[0;31m             kwargs = get_tight_layout_figure(\n\u001b[0m\u001b[1;32m   3112\u001b[0m                 \u001b[0mself\u001b[0m\u001b[0;34m,\u001b[0m \u001b[0mself\u001b[0m\u001b[0;34m.\u001b[0m\u001b[0maxes\u001b[0m\u001b[0;34m,\u001b[0m \u001b[0msubplotspec_list\u001b[0m\u001b[0;34m,\u001b[0m \u001b[0mrenderer\u001b[0m\u001b[0;34m,\u001b[0m\u001b[0;34m\u001b[0m\u001b[0;34m\u001b[0m\u001b[0m\n\u001b[1;32m   3113\u001b[0m                 pad=pad, h_pad=h_pad, w_pad=w_pad, rect=rect)\n",
      "\u001b[0;32m~/miniconda3/envs/comad/lib/python3.8/site-packages/matplotlib/tight_layout.py\u001b[0m in \u001b[0;36mget_tight_layout_figure\u001b[0;34m(fig, axes_list, subplotspec_list, renderer, pad, h_pad, w_pad, rect)\u001b[0m\n\u001b[1;32m    310\u001b[0m                               (colNum2 + 1) * div_col - 1))\n\u001b[1;32m    311\u001b[0m \u001b[0;34m\u001b[0m\u001b[0m\n\u001b[0;32m--> 312\u001b[0;31m     kwargs = auto_adjust_subplotpars(fig, renderer,\n\u001b[0m\u001b[1;32m    313\u001b[0m                                      \u001b[0mnrows_ncols\u001b[0m\u001b[0;34m=\u001b[0m\u001b[0;34m(\u001b[0m\u001b[0mmax_nrows\u001b[0m\u001b[0;34m,\u001b[0m \u001b[0mmax_ncols\u001b[0m\u001b[0;34m)\u001b[0m\u001b[0;34m,\u001b[0m\u001b[0;34m\u001b[0m\u001b[0;34m\u001b[0m\u001b[0m\n\u001b[1;32m    314\u001b[0m                                      \u001b[0mnum1num2_list\u001b[0m\u001b[0;34m=\u001b[0m\u001b[0mnum1num2_list\u001b[0m\u001b[0;34m,\u001b[0m\u001b[0;34m\u001b[0m\u001b[0;34m\u001b[0m\u001b[0m\n",
      "\u001b[0;32m~/miniconda3/envs/comad/lib/python3.8/site-packages/matplotlib/tight_layout.py\u001b[0m in \u001b[0;36mauto_adjust_subplotpars\u001b[0;34m(fig, renderer, nrows_ncols, num1num2_list, subplot_list, ax_bbox_list, pad, h_pad, w_pad, rect)\u001b[0m\n\u001b[1;32m     82\u001b[0m             \u001b[0;32mif\u001b[0m \u001b[0max\u001b[0m\u001b[0;34m.\u001b[0m\u001b[0mget_visible\u001b[0m\u001b[0;34m(\u001b[0m\u001b[0;34m)\u001b[0m\u001b[0;34m:\u001b[0m\u001b[0;34m\u001b[0m\u001b[0;34m\u001b[0m\u001b[0m\n\u001b[1;32m     83\u001b[0m                 \u001b[0;32mtry\u001b[0m\u001b[0;34m:\u001b[0m\u001b[0;34m\u001b[0m\u001b[0;34m\u001b[0m\u001b[0m\n\u001b[0;32m---> 84\u001b[0;31m                     \u001b[0mbb\u001b[0m \u001b[0;34m+=\u001b[0m \u001b[0;34m[\u001b[0m\u001b[0max\u001b[0m\u001b[0;34m.\u001b[0m\u001b[0mget_tightbbox\u001b[0m\u001b[0;34m(\u001b[0m\u001b[0mrenderer\u001b[0m\u001b[0;34m,\u001b[0m \u001b[0mfor_layout_only\u001b[0m\u001b[0;34m=\u001b[0m\u001b[0;32mTrue\u001b[0m\u001b[0;34m)\u001b[0m\u001b[0;34m]\u001b[0m\u001b[0;34m\u001b[0m\u001b[0;34m\u001b[0m\u001b[0m\n\u001b[0m\u001b[1;32m     85\u001b[0m                 \u001b[0;32mexcept\u001b[0m \u001b[0mTypeError\u001b[0m\u001b[0;34m:\u001b[0m\u001b[0;34m\u001b[0m\u001b[0;34m\u001b[0m\u001b[0m\n\u001b[1;32m     86\u001b[0m                     \u001b[0mbb\u001b[0m \u001b[0;34m+=\u001b[0m \u001b[0;34m[\u001b[0m\u001b[0max\u001b[0m\u001b[0;34m.\u001b[0m\u001b[0mget_tightbbox\u001b[0m\u001b[0;34m(\u001b[0m\u001b[0mrenderer\u001b[0m\u001b[0;34m)\u001b[0m\u001b[0;34m]\u001b[0m\u001b[0;34m\u001b[0m\u001b[0;34m\u001b[0m\u001b[0m\n",
      "\u001b[0;32m~/miniconda3/envs/comad/lib/python3.8/site-packages/matplotlib/axes/_base.py\u001b[0m in \u001b[0;36mget_tightbbox\u001b[0;34m(self, renderer, call_axes_locator, bbox_extra_artists, for_layout_only)\u001b[0m\n\u001b[1;32m   4439\u001b[0m             \u001b[0;32mif\u001b[0m \u001b[0mself\u001b[0m\u001b[0;34m.\u001b[0m\u001b[0mxaxis\u001b[0m\u001b[0;34m.\u001b[0m\u001b[0mget_visible\u001b[0m\u001b[0;34m(\u001b[0m\u001b[0;34m)\u001b[0m\u001b[0;34m:\u001b[0m\u001b[0;34m\u001b[0m\u001b[0;34m\u001b[0m\u001b[0m\n\u001b[1;32m   4440\u001b[0m                 \u001b[0;32mtry\u001b[0m\u001b[0;34m:\u001b[0m\u001b[0;34m\u001b[0m\u001b[0;34m\u001b[0m\u001b[0m\n\u001b[0;32m-> 4441\u001b[0;31m                     bb_xaxis = self.xaxis.get_tightbbox(\n\u001b[0m\u001b[1;32m   4442\u001b[0m                         renderer, for_layout_only=for_layout_only)\n\u001b[1;32m   4443\u001b[0m                 \u001b[0;32mexcept\u001b[0m \u001b[0mTypeError\u001b[0m\u001b[0;34m:\u001b[0m\u001b[0;34m\u001b[0m\u001b[0;34m\u001b[0m\u001b[0m\n",
      "\u001b[0;32m~/miniconda3/envs/comad/lib/python3.8/site-packages/matplotlib/axis.py\u001b[0m in \u001b[0;36mget_tightbbox\u001b[0;34m(self, renderer, for_layout_only)\u001b[0m\n\u001b[1;32m   1075\u001b[0m         \u001b[0mticks_to_draw\u001b[0m \u001b[0;34m=\u001b[0m \u001b[0mself\u001b[0m\u001b[0;34m.\u001b[0m\u001b[0m_update_ticks\u001b[0m\u001b[0;34m(\u001b[0m\u001b[0;34m)\u001b[0m\u001b[0;34m\u001b[0m\u001b[0;34m\u001b[0m\u001b[0m\n\u001b[1;32m   1076\u001b[0m \u001b[0;34m\u001b[0m\u001b[0m\n\u001b[0;32m-> 1077\u001b[0;31m         \u001b[0mself\u001b[0m\u001b[0;34m.\u001b[0m\u001b[0m_update_label_position\u001b[0m\u001b[0;34m(\u001b[0m\u001b[0mrenderer\u001b[0m\u001b[0;34m)\u001b[0m\u001b[0;34m\u001b[0m\u001b[0;34m\u001b[0m\u001b[0m\n\u001b[0m\u001b[1;32m   1078\u001b[0m \u001b[0;34m\u001b[0m\u001b[0m\n\u001b[1;32m   1079\u001b[0m         \u001b[0;31m# go back to just this axis's tick labels\u001b[0m\u001b[0;34m\u001b[0m\u001b[0;34m\u001b[0m\u001b[0;34m\u001b[0m\u001b[0m\n",
      "\u001b[0;32m~/miniconda3/envs/comad/lib/python3.8/site-packages/matplotlib/axis.py\u001b[0m in \u001b[0;36m_update_label_position\u001b[0;34m(self, renderer)\u001b[0m\n\u001b[1;32m   2067\u001b[0m         \u001b[0;31m# get bounding boxes for this axis and any siblings\u001b[0m\u001b[0;34m\u001b[0m\u001b[0;34m\u001b[0m\u001b[0;34m\u001b[0m\u001b[0m\n\u001b[1;32m   2068\u001b[0m         \u001b[0;31m# that have been set by `fig.align_xlabels()`\u001b[0m\u001b[0;34m\u001b[0m\u001b[0;34m\u001b[0m\u001b[0;34m\u001b[0m\u001b[0m\n\u001b[0;32m-> 2069\u001b[0;31m         \u001b[0mbboxes\u001b[0m\u001b[0;34m,\u001b[0m \u001b[0mbboxes2\u001b[0m \u001b[0;34m=\u001b[0m \u001b[0mself\u001b[0m\u001b[0;34m.\u001b[0m\u001b[0m_get_tick_boxes_siblings\u001b[0m\u001b[0;34m(\u001b[0m\u001b[0mrenderer\u001b[0m\u001b[0;34m=\u001b[0m\u001b[0mrenderer\u001b[0m\u001b[0;34m)\u001b[0m\u001b[0;34m\u001b[0m\u001b[0;34m\u001b[0m\u001b[0m\n\u001b[0m\u001b[1;32m   2070\u001b[0m \u001b[0;34m\u001b[0m\u001b[0m\n\u001b[1;32m   2071\u001b[0m         \u001b[0mx\u001b[0m\u001b[0;34m,\u001b[0m \u001b[0my\u001b[0m \u001b[0;34m=\u001b[0m \u001b[0mself\u001b[0m\u001b[0;34m.\u001b[0m\u001b[0mlabel\u001b[0m\u001b[0;34m.\u001b[0m\u001b[0mget_position\u001b[0m\u001b[0;34m(\u001b[0m\u001b[0;34m)\u001b[0m\u001b[0;34m\u001b[0m\u001b[0;34m\u001b[0m\u001b[0m\n",
      "\u001b[0;32m~/miniconda3/envs/comad/lib/python3.8/site-packages/matplotlib/axis.py\u001b[0m in \u001b[0;36m_get_tick_boxes_siblings\u001b[0;34m(self, renderer)\u001b[0m\n\u001b[1;32m   1855\u001b[0m             \u001b[0maxis\u001b[0m \u001b[0;34m=\u001b[0m \u001b[0max\u001b[0m\u001b[0;34m.\u001b[0m\u001b[0m_get_axis_map\u001b[0m\u001b[0;34m(\u001b[0m\u001b[0;34m)\u001b[0m\u001b[0;34m[\u001b[0m\u001b[0maxis_name\u001b[0m\u001b[0;34m]\u001b[0m\u001b[0;34m\u001b[0m\u001b[0;34m\u001b[0m\u001b[0m\n\u001b[1;32m   1856\u001b[0m             \u001b[0mticks_to_draw\u001b[0m \u001b[0;34m=\u001b[0m \u001b[0maxis\u001b[0m\u001b[0;34m.\u001b[0m\u001b[0m_update_ticks\u001b[0m\u001b[0;34m(\u001b[0m\u001b[0;34m)\u001b[0m\u001b[0;34m\u001b[0m\u001b[0;34m\u001b[0m\u001b[0m\n\u001b[0;32m-> 1857\u001b[0;31m             \u001b[0mtlb\u001b[0m\u001b[0;34m,\u001b[0m \u001b[0mtlb2\u001b[0m \u001b[0;34m=\u001b[0m \u001b[0maxis\u001b[0m\u001b[0;34m.\u001b[0m\u001b[0m_get_tick_bboxes\u001b[0m\u001b[0;34m(\u001b[0m\u001b[0mticks_to_draw\u001b[0m\u001b[0;34m,\u001b[0m \u001b[0mrenderer\u001b[0m\u001b[0;34m)\u001b[0m\u001b[0;34m\u001b[0m\u001b[0;34m\u001b[0m\u001b[0m\n\u001b[0m\u001b[1;32m   1858\u001b[0m             \u001b[0mbboxes\u001b[0m\u001b[0;34m.\u001b[0m\u001b[0mextend\u001b[0m\u001b[0;34m(\u001b[0m\u001b[0mtlb\u001b[0m\u001b[0;34m)\u001b[0m\u001b[0;34m\u001b[0m\u001b[0;34m\u001b[0m\u001b[0m\n\u001b[1;32m   1859\u001b[0m             \u001b[0mbboxes2\u001b[0m\u001b[0;34m.\u001b[0m\u001b[0mextend\u001b[0m\u001b[0;34m(\u001b[0m\u001b[0mtlb2\u001b[0m\u001b[0;34m)\u001b[0m\u001b[0;34m\u001b[0m\u001b[0;34m\u001b[0m\u001b[0m\n",
      "\u001b[0;32m~/miniconda3/envs/comad/lib/python3.8/site-packages/matplotlib/axis.py\u001b[0m in \u001b[0;36m_get_tick_bboxes\u001b[0;34m(self, ticks, renderer)\u001b[0m\n\u001b[1;32m   1055\u001b[0m     \u001b[0;32mdef\u001b[0m \u001b[0m_get_tick_bboxes\u001b[0m\u001b[0;34m(\u001b[0m\u001b[0mself\u001b[0m\u001b[0;34m,\u001b[0m \u001b[0mticks\u001b[0m\u001b[0;34m,\u001b[0m \u001b[0mrenderer\u001b[0m\u001b[0;34m)\u001b[0m\u001b[0;34m:\u001b[0m\u001b[0;34m\u001b[0m\u001b[0;34m\u001b[0m\u001b[0m\n\u001b[1;32m   1056\u001b[0m         \u001b[0;34m\"\"\"Return lists of bboxes for ticks' label1's and label2's.\"\"\"\u001b[0m\u001b[0;34m\u001b[0m\u001b[0;34m\u001b[0m\u001b[0m\n\u001b[0;32m-> 1057\u001b[0;31m         return ([tick.label1.get_window_extent(renderer)\n\u001b[0m\u001b[1;32m   1058\u001b[0m                  for tick in ticks if tick.label1.get_visible()],\n\u001b[1;32m   1059\u001b[0m                 [tick.label2.get_window_extent(renderer)\n",
      "\u001b[0;32m~/miniconda3/envs/comad/lib/python3.8/site-packages/matplotlib/axis.py\u001b[0m in \u001b[0;36m<listcomp>\u001b[0;34m(.0)\u001b[0m\n\u001b[1;32m   1055\u001b[0m     \u001b[0;32mdef\u001b[0m \u001b[0m_get_tick_bboxes\u001b[0m\u001b[0;34m(\u001b[0m\u001b[0mself\u001b[0m\u001b[0;34m,\u001b[0m \u001b[0mticks\u001b[0m\u001b[0;34m,\u001b[0m \u001b[0mrenderer\u001b[0m\u001b[0;34m)\u001b[0m\u001b[0;34m:\u001b[0m\u001b[0;34m\u001b[0m\u001b[0;34m\u001b[0m\u001b[0m\n\u001b[1;32m   1056\u001b[0m         \u001b[0;34m\"\"\"Return lists of bboxes for ticks' label1's and label2's.\"\"\"\u001b[0m\u001b[0;34m\u001b[0m\u001b[0;34m\u001b[0m\u001b[0m\n\u001b[0;32m-> 1057\u001b[0;31m         return ([tick.label1.get_window_extent(renderer)\n\u001b[0m\u001b[1;32m   1058\u001b[0m                  for tick in ticks if tick.label1.get_visible()],\n\u001b[1;32m   1059\u001b[0m                 [tick.label2.get_window_extent(renderer)\n",
      "\u001b[0;32m~/miniconda3/envs/comad/lib/python3.8/site-packages/matplotlib/text.py\u001b[0m in \u001b[0;36mget_window_extent\u001b[0;34m(self, renderer, dpi)\u001b[0m\n\u001b[1;32m    901\u001b[0m \u001b[0;34m\u001b[0m\u001b[0m\n\u001b[1;32m    902\u001b[0m         \u001b[0;32mwith\u001b[0m \u001b[0mcbook\u001b[0m\u001b[0;34m.\u001b[0m\u001b[0m_setattr_cm\u001b[0m\u001b[0;34m(\u001b[0m\u001b[0mself\u001b[0m\u001b[0;34m.\u001b[0m\u001b[0mfigure\u001b[0m\u001b[0;34m,\u001b[0m \u001b[0mdpi\u001b[0m\u001b[0;34m=\u001b[0m\u001b[0mdpi\u001b[0m\u001b[0;34m)\u001b[0m\u001b[0;34m:\u001b[0m\u001b[0;34m\u001b[0m\u001b[0;34m\u001b[0m\u001b[0m\n\u001b[0;32m--> 903\u001b[0;31m             \u001b[0mbbox\u001b[0m\u001b[0;34m,\u001b[0m \u001b[0minfo\u001b[0m\u001b[0;34m,\u001b[0m \u001b[0mdescent\u001b[0m \u001b[0;34m=\u001b[0m \u001b[0mself\u001b[0m\u001b[0;34m.\u001b[0m\u001b[0m_get_layout\u001b[0m\u001b[0;34m(\u001b[0m\u001b[0mself\u001b[0m\u001b[0;34m.\u001b[0m\u001b[0m_renderer\u001b[0m\u001b[0;34m)\u001b[0m\u001b[0;34m\u001b[0m\u001b[0;34m\u001b[0m\u001b[0m\n\u001b[0m\u001b[1;32m    904\u001b[0m             \u001b[0mx\u001b[0m\u001b[0;34m,\u001b[0m \u001b[0my\u001b[0m \u001b[0;34m=\u001b[0m \u001b[0mself\u001b[0m\u001b[0;34m.\u001b[0m\u001b[0mget_unitless_position\u001b[0m\u001b[0;34m(\u001b[0m\u001b[0;34m)\u001b[0m\u001b[0;34m\u001b[0m\u001b[0;34m\u001b[0m\u001b[0m\n\u001b[1;32m    905\u001b[0m             \u001b[0mx\u001b[0m\u001b[0;34m,\u001b[0m \u001b[0my\u001b[0m \u001b[0;34m=\u001b[0m \u001b[0mself\u001b[0m\u001b[0;34m.\u001b[0m\u001b[0mget_transform\u001b[0m\u001b[0;34m(\u001b[0m\u001b[0;34m)\u001b[0m\u001b[0;34m.\u001b[0m\u001b[0mtransform\u001b[0m\u001b[0;34m(\u001b[0m\u001b[0;34m(\u001b[0m\u001b[0mx\u001b[0m\u001b[0;34m,\u001b[0m \u001b[0my\u001b[0m\u001b[0;34m)\u001b[0m\u001b[0;34m)\u001b[0m\u001b[0;34m\u001b[0m\u001b[0;34m\u001b[0m\u001b[0m\n",
      "\u001b[0;32m~/miniconda3/envs/comad/lib/python3.8/site-packages/matplotlib/text.py\u001b[0m in \u001b[0;36m_get_layout\u001b[0;34m(self, renderer)\u001b[0m\n\u001b[1;32m    439\u001b[0m \u001b[0;34m\u001b[0m\u001b[0m\n\u001b[1;32m    440\u001b[0m         \u001b[0mret\u001b[0m \u001b[0;34m=\u001b[0m \u001b[0mbbox\u001b[0m\u001b[0;34m,\u001b[0m \u001b[0mlist\u001b[0m\u001b[0;34m(\u001b[0m\u001b[0mzip\u001b[0m\u001b[0;34m(\u001b[0m\u001b[0mlines\u001b[0m\u001b[0;34m,\u001b[0m \u001b[0mzip\u001b[0m\u001b[0;34m(\u001b[0m\u001b[0mws\u001b[0m\u001b[0;34m,\u001b[0m \u001b[0mhs\u001b[0m\u001b[0;34m)\u001b[0m\u001b[0;34m,\u001b[0m \u001b[0;34m*\u001b[0m\u001b[0mxys\u001b[0m\u001b[0;34m.\u001b[0m\u001b[0mT\u001b[0m\u001b[0;34m)\u001b[0m\u001b[0;34m)\u001b[0m\u001b[0;34m,\u001b[0m \u001b[0mdescent\u001b[0m\u001b[0;34m\u001b[0m\u001b[0;34m\u001b[0m\u001b[0m\n\u001b[0;32m--> 441\u001b[0;31m         \u001b[0mself\u001b[0m\u001b[0;34m.\u001b[0m\u001b[0m_cached\u001b[0m\u001b[0;34m[\u001b[0m\u001b[0mkey\u001b[0m\u001b[0;34m]\u001b[0m \u001b[0;34m=\u001b[0m \u001b[0mret\u001b[0m\u001b[0;34m\u001b[0m\u001b[0;34m\u001b[0m\u001b[0m\n\u001b[0m\u001b[1;32m    442\u001b[0m         \u001b[0;32mreturn\u001b[0m \u001b[0mret\u001b[0m\u001b[0;34m\u001b[0m\u001b[0;34m\u001b[0m\u001b[0m\n\u001b[1;32m    443\u001b[0m \u001b[0;34m\u001b[0m\u001b[0m\n",
      "\u001b[0;32m~/miniconda3/envs/comad/lib/python3.8/site-packages/matplotlib/cbook/__init__.py\u001b[0m in \u001b[0;36m__setitem__\u001b[0;34m(self, k, v)\u001b[0m\n\u001b[1;32m    591\u001b[0m         \u001b[0;32mif\u001b[0m \u001b[0mk\u001b[0m \u001b[0;32mnot\u001b[0m \u001b[0;32min\u001b[0m \u001b[0mself\u001b[0m\u001b[0;34m:\u001b[0m\u001b[0;34m\u001b[0m\u001b[0;34m\u001b[0m\u001b[0m\n\u001b[1;32m    592\u001b[0m             \u001b[0;32mif\u001b[0m \u001b[0mlen\u001b[0m\u001b[0;34m(\u001b[0m\u001b[0mself\u001b[0m\u001b[0;34m)\u001b[0m \u001b[0;34m>=\u001b[0m \u001b[0mself\u001b[0m\u001b[0;34m.\u001b[0m\u001b[0mmaxsize\u001b[0m\u001b[0;34m:\u001b[0m\u001b[0;34m\u001b[0m\u001b[0;34m\u001b[0m\u001b[0m\n\u001b[0;32m--> 593\u001b[0;31m                 \u001b[0;32mdel\u001b[0m \u001b[0mself\u001b[0m\u001b[0;34m[\u001b[0m\u001b[0mself\u001b[0m\u001b[0;34m.\u001b[0m\u001b[0m_killkeys\u001b[0m\u001b[0;34m[\u001b[0m\u001b[0;36m0\u001b[0m\u001b[0;34m]\u001b[0m\u001b[0;34m]\u001b[0m\u001b[0;34m\u001b[0m\u001b[0;34m\u001b[0m\u001b[0m\n\u001b[0m\u001b[1;32m    594\u001b[0m                 \u001b[0;32mdel\u001b[0m \u001b[0mself\u001b[0m\u001b[0;34m.\u001b[0m\u001b[0m_killkeys\u001b[0m\u001b[0;34m[\u001b[0m\u001b[0;36m0\u001b[0m\u001b[0;34m]\u001b[0m\u001b[0;34m\u001b[0m\u001b[0;34m\u001b[0m\u001b[0m\n\u001b[1;32m    595\u001b[0m             \u001b[0mself\u001b[0m\u001b[0;34m.\u001b[0m\u001b[0m_killkeys\u001b[0m\u001b[0;34m.\u001b[0m\u001b[0mappend\u001b[0m\u001b[0;34m(\u001b[0m\u001b[0mk\u001b[0m\u001b[0;34m)\u001b[0m\u001b[0;34m\u001b[0m\u001b[0;34m\u001b[0m\u001b[0m\n",
      "\u001b[0;31mKeyError\u001b[0m: (3.0, 0.0, 'BE_Prog_T2_genome_WOL_scrubbed (n=1817)', '.15', 'top', 'center', -3728358448861741636, 90, None, False, 72, <weakref at 0x7fedff7de9a0; to 'MixedModeRenderer' at 0x7fedff7e5400>, 1.2)"
     ]
    }
   ],
   "source": [
    "beta_decoide(['normal_genome_WOL_scrubbed', 'GERD_genome_WOL_scrubbed',\n",
    "                        'BE_NP_genome_WOL_scrubbed', 'BE_Prog_T1_genome_WOL_scrubbed',\n",
    "                       'BE_Prog_T2_genome_WOL_scrubbed', 'BE_exact_Ross_paired_genome_WOL_scrubbed',\n",
    "                       'EAC_ICGC_genome_WOL_scrubbed', 'EAC_Ross_paired_genome_WOL_scrubbed'],\n",
    "                      'Combo-Progression_WOL_scrubbed')"
   ]
  },
  {
   "cell_type": "code",
   "execution_count": null,
   "id": "e91e193b-a8d3-4b66-8241-568fb035469e",
   "metadata": {},
   "outputs": [],
   "source": []
  }
 ],
 "metadata": {
  "kernelspec": {
   "display_name": "comad",
   "language": "python",
   "name": "comad"
  },
  "language_info": {
   "codemirror_mode": {
    "name": "ipython",
    "version": 3
   },
   "file_extension": ".py",
   "mimetype": "text/x-python",
   "name": "python",
   "nbconvert_exporter": "python",
   "pygments_lexer": "ipython3",
   "version": "3.8.8"
  }
 },
 "nbformat": 4,
 "nbformat_minor": 5
}
