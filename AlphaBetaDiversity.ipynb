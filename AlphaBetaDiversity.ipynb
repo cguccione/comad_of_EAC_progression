{
 "cells": [
  {
   "cell_type": "markdown",
   "id": "b0a8d09c-0e95-45d5-a211-604a519901f4",
   "metadata": {},
   "source": [
    "## Alpha/Beta Diversity for EAC Progresson\n",
    "Date: 5/15/23  \n",
    "Goal: Get basic micorbial alpha/beta diversity  \n",
    "Will likely expand upon this more before the paper, but for now just getting an idea of what our samples look like"
   ]
  },
  {
   "cell_type": "markdown",
   "id": "cb282739-b987-408d-89fa-122ae2f76528",
   "metadata": {},
   "source": [
    "### Imports"
   ]
  },
  {
   "cell_type": "code",
   "execution_count": 13,
   "id": "db0e6695-3491-4eac-9ec3-437d941d0e61",
   "metadata": {},
   "outputs": [],
   "source": [
    "import pandas as pd\n",
    "import qiime2 as q2\n",
    "from qiime2 import Artifact, Metadata\n",
    "from biom import load_table\n",
    "\n",
    "from qiime2.plugins.taxa.visualizers import barplot\n",
    "from qiime2.plugins.diversity.pipelines import alpha\n",
    "from qiime2.plugins.diversity.visualizers import alpha_group_significance"
   ]
  },
  {
   "cell_type": "code",
   "execution_count": 2,
   "id": "a551b587-4a96-4de2-bef4-e719b2aac8f0",
   "metadata": {},
   "outputs": [
    {
     "data": {
      "text/plain": [
       "<artifact: FeatureData[Taxonomy] uuid: 83206f28-ab1f-47c7-bf20-92a7e6b9744b>"
      ]
     },
     "execution_count": 2,
     "metadata": {},
     "output_type": "execute_result"
    }
   ],
   "source": [
    "#WOL Taxonomy in FeatureData[Taxonomy] Form\n",
    "wol_taxonomy = Artifact.import_data('FeatureData[Taxonomy]', '/Users/cguccion/Dropbox/Storage/HelpfulLabDocs/taxonomy_trees/WOL/lineages.txt', 'HeaderlessTSVTaxonomyFormat')\n",
    "wol_taxonomy"
   ]
  },
  {
   "cell_type": "markdown",
   "id": "33a635c6-ae6d-4588-8486-2240795103c4",
   "metadata": {},
   "source": [
    "### Functions"
   ]
  },
  {
   "cell_type": "code",
   "execution_count": 3,
   "id": "026cf42e-bd6e-4da4-9cf1-125d8e57719a",
   "metadata": {},
   "outputs": [],
   "source": [
    "def taxonomy_barplot(fn, taxonomy=wol_taxonomy):\n",
    "    '''Create taxonomy barplots'''\n",
    "    \n",
    "    ft = Artifact.load('processed_data/qza/' + fn + '.qza')\n",
    "    meta = q2.Metadata(pd.read_csv('processed_data/metadata/metadata_' + fn + '.tsv', sep='\\t', index_col=0))\n",
    "    \n",
    "    barplot_output = barplot(table=ft, taxonomy=taxonomy, metadata=meta)\n",
    "    barplot_output_v = barplot_output.visualization\n",
    "    barplot_output_v.save('outputs/taxonomy_barplots/barplot_' + fn + '.qzv')"
   ]
  },
  {
   "cell_type": "code",
   "execution_count": 22,
   "id": "0d04f58f-3ca0-4ed5-bf2d-2fe7aba340cd",
   "metadata": {},
   "outputs": [],
   "source": [
    "def basic_alpha(fn, metric = 'observed_features'):\n",
    "    '''Run basic alpha diversity'''\n",
    "    \n",
    "    ft = Artifact.load('processed_data/qza/' + fn + '.qza')\n",
    "    meta = q2.Metadata(pd.read_csv('processed_data/metadata/metadata_' + fn + '.tsv', sep='\\t', index_col=0))\n",
    "    \n",
    "    alpha_vector, = alpha(table= ft, metric=metric)\n",
    "    alpha_output = alpha_group_significance(alpha_diversity = alpha_vector, metadata = meta)\n",
    "    alpha_output_v = alpha_output.visualization\n",
    "    alpha_output_v.save('outputs/alpha_plots/alpha_' + fn + '.qzv')"
   ]
  },
  {
   "cell_type": "markdown",
   "id": "0ca924d1-2846-40c1-9926-88e7a9ee1cb8",
   "metadata": {},
   "source": [
    "### Taxonomy Barplots"
   ]
  },
  {
   "cell_type": "code",
   "execution_count": 6,
   "id": "cc20ac93-1764-492d-a0cc-945a90fee4b5",
   "metadata": {},
   "outputs": [],
   "source": [
    "taxonomy_barplot('normal_genome_WOL')"
   ]
  },
  {
   "cell_type": "code",
   "execution_count": 7,
   "id": "b68e99c3-c888-4299-a827-367f04437a00",
   "metadata": {},
   "outputs": [],
   "source": [
    "taxonomy_barplot('GERD_genome_WOL')"
   ]
  },
  {
   "cell_type": "code",
   "execution_count": 8,
   "id": "b2de4b31-2eba-4b5d-8cd9-24926bab07d6",
   "metadata": {},
   "outputs": [],
   "source": [
    "taxonomy_barplot('BE_genome_WOL')"
   ]
  },
  {
   "cell_type": "code",
   "execution_count": 9,
   "id": "914dac2b-07f6-47e3-b21d-d81779554d3f",
   "metadata": {},
   "outputs": [],
   "source": [
    "taxonomy_barplot('EAC_genome_WOL')"
   ]
  },
  {
   "cell_type": "code",
   "execution_count": 4,
   "id": "99d0ce9b-a9a4-4ff4-ba20-ebaf0e49d5af",
   "metadata": {},
   "outputs": [],
   "source": [
    "taxonomy_barplot('BE_Ross_paired_genome_WOL')"
   ]
  },
  {
   "cell_type": "code",
   "execution_count": 5,
   "id": "3472a5d1-e412-421f-81c6-da318ded99cb",
   "metadata": {},
   "outputs": [],
   "source": [
    "taxonomy_barplot('EAC_Ross_paired_genome_WOL')"
   ]
  },
  {
   "cell_type": "code",
   "execution_count": 9,
   "id": "9549d478-4273-4fea-a4ac-2c965e817480",
   "metadata": {},
   "outputs": [],
   "source": [
    "taxonomy_barplot('BE_Prog_T2_genome_WOL')"
   ]
  },
  {
   "cell_type": "markdown",
   "id": "b5162091-8030-4ced-a6cd-48586d6df7fa",
   "metadata": {},
   "source": [
    "### Alpha Plots"
   ]
  },
  {
   "cell_type": "code",
   "execution_count": 24,
   "id": "a677d661-8669-4e9c-b2e5-b0722f388461",
   "metadata": {},
   "outputs": [],
   "source": [
    "basic_alpha('BE_Ross_paired_genome_WOL')"
   ]
  },
  {
   "cell_type": "code",
   "execution_count": 25,
   "id": "9a562ddc-44f1-4e9c-a935-1a34a7e2d7d2",
   "metadata": {},
   "outputs": [],
   "source": [
    "basic_alpha('EAC_Ross_paired_genome_WOL')"
   ]
  },
  {
   "cell_type": "code",
   "execution_count": 23,
   "id": "a9027859-9004-48cc-acb8-e06809151c89",
   "metadata": {},
   "outputs": [],
   "source": [
    "basic_alpha('BE_Prog_T2_genome_WOL')"
   ]
  },
  {
   "cell_type": "code",
   "execution_count": 26,
   "id": "64546cce-0f4a-4a15-a0ee-f9f1e58f75ad",
   "metadata": {},
   "outputs": [],
   "source": [
    "basic_alpha('EAC_genome_WOL')"
   ]
  },
  {
   "cell_type": "code",
   "execution_count": null,
   "id": "fcc4bdf3-0e8a-424f-a776-6a8196c03d3d",
   "metadata": {},
   "outputs": [],
   "source": []
  }
 ],
 "metadata": {
  "kernelspec": {
   "display_name": "comad",
   "language": "python",
   "name": "comad"
  },
  "language_info": {
   "codemirror_mode": {
    "name": "ipython",
    "version": 3
   },
   "file_extension": ".py",
   "mimetype": "text/x-python",
   "name": "python",
   "nbconvert_exporter": "python",
   "pygments_lexer": "ipython3",
   "version": "3.8.8"
  }
 },
 "nbformat": 4,
 "nbformat_minor": 5
}
