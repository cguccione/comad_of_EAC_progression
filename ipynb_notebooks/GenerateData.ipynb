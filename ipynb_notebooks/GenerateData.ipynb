{
 "cells": [
  {
   "cell_type": "markdown",
   "id": "86c88da5-4793-43df-a099-ab477cce2cac",
   "metadata": {},
   "source": [
    "# Genearate Data\n",
    "Generate all data needed to run analysis"
   ]
  },
  {
   "cell_type": "markdown",
   "id": "e0be072a-c289-436d-83e6-90dc2bff85cf",
   "metadata": {},
   "source": [
    "### Imports"
   ]
  },
  {
   "cell_type": "code",
   "execution_count": 1,
   "id": "49bd78dd-82b0-4930-9e30-db578c2ef177",
   "metadata": {},
   "outputs": [],
   "source": [
    "import pandas as pd\n",
    "\n",
    "user_path = '/Users/cguccion/Dropbox/current_Spring23/ISMEJ_EsophModeling_Paper/Figures/comad_of_EAC_progression/'"
   ]
  },
  {
   "cell_type": "code",
   "execution_count": 2,
   "id": "29a66a21-5fff-4e4b-89e5-c2f63d5de51a",
   "metadata": {},
   "outputs": [],
   "source": [
    "from python_scripts.import_split_biom import gerd_normal_data_split"
   ]
  },
  {
   "cell_type": "markdown",
   "id": "f25effc8-530a-4fe6-bd78-b564b9468616",
   "metadata": {},
   "source": [
    "### Datatypes"
   ]
  },
  {
   "cell_type": "code",
   "execution_count": 3,
   "id": "57a7b7f5-6ec6-4acd-bd7b-c4c625b3f0f8",
   "metadata": {},
   "outputs": [
    {
     "data": {
      "text/html": [
       "<div>\n",
       "<style scoped>\n",
       "    .dataframe tbody tr th:only-of-type {\n",
       "        vertical-align: middle;\n",
       "    }\n",
       "\n",
       "    .dataframe tbody tr th {\n",
       "        vertical-align: top;\n",
       "    }\n",
       "\n",
       "    .dataframe thead th {\n",
       "        text-align: right;\n",
       "    }\n",
       "</style>\n",
       "<table border=\"1\" class=\"dataframe\">\n",
       "  <thead>\n",
       "    <tr style=\"text-align: right;\">\n",
       "      <th></th>\n",
       "      <th>sample_name</th>\n",
       "      <th>age</th>\n",
       "      <th>ppi</th>\n",
       "      <th>gender</th>\n",
       "      <th>shotgun</th>\n",
       "      <th>diagnosis</th>\n",
       "      <th>og_sample_name</th>\n",
       "      <th>reflux_symptoms</th>\n",
       "      <th>metadata_sample_id</th>\n",
       "      <th>qiita_study_id</th>\n",
       "    </tr>\n",
       "  </thead>\n",
       "  <tbody>\n",
       "    <tr>\n",
       "      <th>0</th>\n",
       "      <td>14458.ERR2373136</td>\n",
       "      <td>55</td>\n",
       "      <td>YES</td>\n",
       "      <td>F</td>\n",
       "      <td>YES</td>\n",
       "      <td>Normal</td>\n",
       "      <td>H98_S89_SG</td>\n",
       "      <td>NO</td>\n",
       "      <td>H98</td>\n",
       "      <td>14458</td>\n",
       "    </tr>\n",
       "    <tr>\n",
       "      <th>1</th>\n",
       "      <td>14458.ERR2373134</td>\n",
       "      <td>70</td>\n",
       "      <td>YES</td>\n",
       "      <td>F</td>\n",
       "      <td>YES</td>\n",
       "      <td>Normal</td>\n",
       "      <td>H96_S87_SG</td>\n",
       "      <td>NO</td>\n",
       "      <td>H96</td>\n",
       "      <td>14458</td>\n",
       "    </tr>\n",
       "    <tr>\n",
       "      <th>2</th>\n",
       "      <td>14458.ERR2373133</td>\n",
       "      <td>23</td>\n",
       "      <td>YES</td>\n",
       "      <td>F</td>\n",
       "      <td>YES</td>\n",
       "      <td>Normal</td>\n",
       "      <td>H95_S86_SG</td>\n",
       "      <td>NO</td>\n",
       "      <td>H95</td>\n",
       "      <td>14458</td>\n",
       "    </tr>\n",
       "  </tbody>\n",
       "</table>\n",
       "</div>"
      ],
      "text/plain": [
       "        sample_name  age  ppi gender shotgun diagnosis og_sample_name  \\\n",
       "0  14458.ERR2373136   55  YES      F     YES    Normal     H98_S89_SG   \n",
       "1  14458.ERR2373134   70  YES      F     YES    Normal     H96_S87_SG   \n",
       "2  14458.ERR2373133   23  YES      F     YES    Normal     H95_S86_SG   \n",
       "\n",
       "  reflux_symptoms metadata_sample_id  qiita_study_id  \n",
       "0              NO                H98           14458  \n",
       "1              NO                H96           14458  \n",
       "2              NO                H95           14458  "
      ]
     },
     "metadata": {},
     "output_type": "display_data"
    },
    {
     "name": "stdout",
     "output_type": "stream",
     "text": [
      "Total number of samples in normal_genome_RS210  =  50\n"
     ]
    },
    {
     "name": "stderr",
     "output_type": "stream",
     "text": [
      "/Users/cguccion/Dropbox/current_Spring23/ISMEJ_EsophModeling_Paper/Figures/comad_of_EAC_progression/python_scripts/import_split_biom.py:41: FutureWarning: The behavior of .astype from SparseDtype to a non-sparse dtype is deprecated. In a future version, this will return a non-sparse array with the requested dtype. To retain the old behavior, use `obj.astype(SparseDtype(dtype))`\n",
      "  df.to_csv(filename, sep = '\\t')\n"
     ]
    },
    {
     "data": {
      "text/plain": [
       "()"
      ]
     },
     "execution_count": 3,
     "metadata": {},
     "output_type": "execute_result"
    }
   ],
   "source": [
    "gerd_normal_data_split('Normal',\n",
    "                       user_path +'qiita_downloads/qiita14458_NormalGerdEsoph/169129_perGenome_RS210.biom',\n",
    "                       'normal_genome_RS210')\n"
   ]
  },
  {
   "cell_type": "code",
   "execution_count": 4,
   "id": "3f7efc1f-0613-4276-a652-27eecc095c60",
   "metadata": {},
   "outputs": [
    {
     "data": {
      "text/html": [
       "<div>\n",
       "<style scoped>\n",
       "    .dataframe tbody tr th:only-of-type {\n",
       "        vertical-align: middle;\n",
       "    }\n",
       "\n",
       "    .dataframe tbody tr th {\n",
       "        vertical-align: top;\n",
       "    }\n",
       "\n",
       "    .dataframe thead th {\n",
       "        text-align: right;\n",
       "    }\n",
       "</style>\n",
       "<table border=\"1\" class=\"dataframe\">\n",
       "  <thead>\n",
       "    <tr style=\"text-align: right;\">\n",
       "      <th></th>\n",
       "      <th>sample_name</th>\n",
       "      <th>age</th>\n",
       "      <th>ppi</th>\n",
       "      <th>gender</th>\n",
       "      <th>shotgun</th>\n",
       "      <th>diagnosis</th>\n",
       "      <th>og_sample_name</th>\n",
       "      <th>reflux_symptoms</th>\n",
       "      <th>metadata_sample_id</th>\n",
       "      <th>qiita_study_id</th>\n",
       "    </tr>\n",
       "  </thead>\n",
       "  <tbody>\n",
       "    <tr>\n",
       "      <th>0</th>\n",
       "      <td>14458.ERR2373137</td>\n",
       "      <td>53</td>\n",
       "      <td>NO</td>\n",
       "      <td>M</td>\n",
       "      <td>YES</td>\n",
       "      <td>GERD</td>\n",
       "      <td>H99_S90_SG</td>\n",
       "      <td>YES</td>\n",
       "      <td>H99</td>\n",
       "      <td>14458</td>\n",
       "    </tr>\n",
       "    <tr>\n",
       "      <th>1</th>\n",
       "      <td>14458.ERR2373135</td>\n",
       "      <td>36</td>\n",
       "      <td>NO</td>\n",
       "      <td>M</td>\n",
       "      <td>YES</td>\n",
       "      <td>GERD</td>\n",
       "      <td>H97_S88_SG</td>\n",
       "      <td>YES</td>\n",
       "      <td>H97</td>\n",
       "      <td>14458</td>\n",
       "    </tr>\n",
       "    <tr>\n",
       "      <th>2</th>\n",
       "      <td>14458.ERR2373132</td>\n",
       "      <td>34</td>\n",
       "      <td>NO</td>\n",
       "      <td>F</td>\n",
       "      <td>YES</td>\n",
       "      <td>GERD</td>\n",
       "      <td>H94_S85_SG</td>\n",
       "      <td>YES</td>\n",
       "      <td>H94</td>\n",
       "      <td>14458</td>\n",
       "    </tr>\n",
       "  </tbody>\n",
       "</table>\n",
       "</div>"
      ],
      "text/plain": [
       "        sample_name  age ppi gender shotgun diagnosis og_sample_name  \\\n",
       "0  14458.ERR2373137   53  NO      M     YES      GERD     H99_S90_SG   \n",
       "1  14458.ERR2373135   36  NO      M     YES      GERD     H97_S88_SG   \n",
       "2  14458.ERR2373132   34  NO      F     YES      GERD     H94_S85_SG   \n",
       "\n",
       "  reflux_symptoms metadata_sample_id  qiita_study_id  \n",
       "0             YES                H99           14458  \n",
       "1             YES                H97           14458  \n",
       "2             YES                H94           14458  "
      ]
     },
     "metadata": {},
     "output_type": "display_data"
    },
    {
     "name": "stdout",
     "output_type": "stream",
     "text": [
      "Total number of samples in GERD_genome_RS210  =  29\n"
     ]
    },
    {
     "name": "stderr",
     "output_type": "stream",
     "text": [
      "/Users/cguccion/Dropbox/current_Spring23/ISMEJ_EsophModeling_Paper/Figures/comad_of_EAC_progression/python_scripts/import_split_biom.py:41: FutureWarning: The behavior of .astype from SparseDtype to a non-sparse dtype is deprecated. In a future version, this will return a non-sparse array with the requested dtype. To retain the old behavior, use `obj.astype(SparseDtype(dtype))`\n",
      "  df.to_csv(filename, sep = '\\t')\n"
     ]
    },
    {
     "data": {
      "text/plain": [
       "()"
      ]
     },
     "execution_count": 4,
     "metadata": {},
     "output_type": "execute_result"
    }
   ],
   "source": [
    "gerd_normal_data_split('GERD',\n",
    "                       user_path +'qiita_downloads/qiita14458_NormalGerdEsoph/169129_perGenome_RS210.biom',\n",
    "                       'GERD_genome_RS210')\n"
   ]
  },
  {
   "cell_type": "code",
   "execution_count": null,
   "id": "78c1747b-9a03-41e5-927e-8e641405be18",
   "metadata": {},
   "outputs": [],
   "source": []
  }
 ],
 "metadata": {
  "kernelspec": {
   "display_name": "comad_EAC_figures",
   "language": "python",
   "name": "comad_eac_figures"
  },
  "language_info": {
   "codemirror_mode": {
    "name": "ipython",
    "version": 3
   },
   "file_extension": ".py",
   "mimetype": "text/x-python",
   "name": "python",
   "nbconvert_exporter": "python",
   "pygments_lexer": "ipython3",
   "version": "3.8.16"
  }
 },
 "nbformat": 4,
 "nbformat_minor": 5
}
