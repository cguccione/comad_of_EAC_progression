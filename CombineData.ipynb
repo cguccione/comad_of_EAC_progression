{
 "cells": [
  {
   "cell_type": "markdown",
   "id": "2ff6ec93-a674-491e-804d-5e089471218c",
   "metadata": {},
   "source": [
    "# Combines Data Together\n",
    "Combines datasets together to run comparisons across one another"
   ]
  },
  {
   "cell_type": "code",
   "execution_count": 2,
   "id": "b676bf0e-1a96-4761-a9f5-e0903ed9671b",
   "metadata": {},
   "outputs": [],
   "source": [
    "import pandas as pd\n",
    "from biom import load_table\n",
    "\n",
    "from qiime2 import Artifact\n",
    "from qiime2.plugins.feature_table.methods import merge, rarefy"
   ]
  },
  {
   "cell_type": "code",
   "execution_count": null,
   "id": "04170dec-c312-4f7f-8afc-0f5631b10b3d",
   "metadata": {},
   "outputs": [],
   "source": [
    "def combine_tables(table_list, fn, rarefaction=False, ):\n",
    "    \n",
    "    q2_table_list = []\n",
    "    \n",
    "    for table in table_list:\n",
    "        \n",
    "        #Convert into q2 object / correct formatting\n",
    "        table = table.T\n",
    "        \n",
    "        ft = Artifact.import_data(\"FeatureTable[Frequency]\", table)\n",
    "        \n",
    "        #Rarefy if needed\n",
    "        if rarefaction != False:\n",
    "            ft = rarefy(table=ft, sampling_depth = rarefaction)\n",
    "            ft = ft.rarefied_table\n",
    "        \n",
    "        q2_table_list.append(ft)\n",
    "    \n",
    "    merged_table, = merge(tables = q2_table_list)\n",
    "    \n",
    "    #Save in table/qza form (this is more helpful for alpha/beta diversity)\n",
    "    #print(merged_table)\n",
    "    merged_table.save('/processed_data/qza/' + fn + '.qza')\n",
    "    \n"
   ]
  },
  {
   "cell_type": "code",
   "execution_count": null,
   "id": "0d64c056-9e64-4b2d-87c8-27765a5fd079",
   "metadata": {},
   "outputs": [],
   "source": [
    "def combine_meta(meta_list, fn, combo_meta_col =['sample_name']):\n",
    "    \n",
    "    combined_meta = pd.DataFrame(columns = combo_meta_col)\n",
    "    \n",
    "    for i in range(0, len(meta_list)):\n",
    "        meta = meta_list[i]\n",
    "        \n",
    "        #combined_meta = pd.concat([combined_meta, meta], axis=1)\n",
    "        combined_meta = pd.merge(combined_meta, meta, how = 'outer', on= combo_meta_col)\n",
    "    \n",
    "    combined_meta.to_csv('/processed_data/metadata/' + fn + '.tsv', index = False, sep = '\\t')\n"
   ]
  },
  {
   "cell_type": "code",
   "execution_count": null,
   "id": "0fcdec58-ca68-41fb-b320-8c0933b9ae9d",
   "metadata": {},
   "outputs": [],
   "source": [
    "combine_tables([df_Normal_wol_species, df_GERD_wol_species, df_NP_wol_species, df_Prog_wol_species, df_eac_wol_species],\n",
    "               False, 'allEsoph/allEsoph_df_wol_species')\n",
    "\n"
   ]
  }
 ],
 "metadata": {
  "kernelspec": {
   "display_name": "comad_EAC_figures",
   "language": "python",
   "name": "comad_eac_figures"
  },
  "language_info": {
   "codemirror_mode": {
    "name": "ipython",
    "version": 3
   },
   "file_extension": ".py",
   "mimetype": "text/x-python",
   "name": "python",
   "nbconvert_exporter": "python",
   "pygments_lexer": "ipython3",
   "version": "3.8.16"
  }
 },
 "nbformat": 4,
 "nbformat_minor": 5
}
